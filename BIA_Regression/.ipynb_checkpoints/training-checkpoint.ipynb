{
 "cells": [
  {
   "cell_type": "code",
   "execution_count": 126,
   "metadata": {},
   "outputs": [],
   "source": [
    "import pandas as pd\n",
    "import numpy as np\n",
    "from sklearn.linear_model import LinearRegression, Ridge, Lasso, LassoCV\n",
    "from sklearn.model_selection import cross_validate\n",
    "from sklearn import metrics\n",
    "from sklearn.ensemble import RandomForestRegressor\n",
    "from sklearn.model_selection import GridSearchCV, RandomizedSearchCV, train_test_split"
   ]
  },
  {
   "cell_type": "code",
   "execution_count": 163,
   "metadata": {},
   "outputs": [],
   "source": [
    "one_hot_df = pd.read_csv('./Data/one_hot_df.csv')\n",
    "label_df = pd.read_csv('./Data/label_df.csv')\n",
    "y = one_hot_df['SalePrice']\n",
    "X = one_hot_df.drop(['SalePrice', 'Unnamed: 0'], axis =1)\n",
    "label_X = label_df.drop(['SalePrice', 'Unnamed: 0'], axis =1)"
   ]
  },
  {
   "cell_type": "code",
   "execution_count": 162,
   "metadata": {
    "scrolled": false
   },
   "outputs": [
    {
     "data": {
      "text/plain": [
       "LotArea          float64\n",
       "OverallQual      float64\n",
       "OverallCond      float64\n",
       "YearBuilt        float64\n",
       "YearRemodAdd     float64\n",
       "MasVnrArea       float64\n",
       "BsmtFinSF1       float64\n",
       "BsmtUnfSF        float64\n",
       "TotalBsmtSF      float64\n",
       "1stFlrSF         float64\n",
       "2ndFlrSF         float64\n",
       "GrLivArea        float64\n",
       "BsmtFullBath     float64\n",
       "FullBath         float64\n",
       "HalfBath         float64\n",
       "BedroomAbvGr     float64\n",
       "KitchenAbvGr     float64\n",
       "TotRmsAbvGrd     float64\n",
       "Fireplaces       float64\n",
       "GarageCars       float64\n",
       "GarageArea       float64\n",
       "WoodDeckSF       float64\n",
       "OpenPorchSF      float64\n",
       "EnclosedPorch    float64\n",
       "ScreenPorch      float64\n",
       "MSSubClass         int64\n",
       "MSZoning           int64\n",
       "LotShape           int64\n",
       "LandContour        int64\n",
       "LotConfig          int64\n",
       "Neighborhood       int64\n",
       "Condition1         int64\n",
       "BldgType           int64\n",
       "HouseStyle         int64\n",
       "RoofStyle          int64\n",
       "Exterior1st        int64\n",
       "Exterior2nd        int64\n",
       "MasVnrType         int64\n",
       "ExterQual          int64\n",
       "ExterCond          int64\n",
       "Foundation         int64\n",
       "BsmtQual           int64\n",
       "BsmtCond           int64\n",
       "BsmtExposure       int64\n",
       "BsmtFinType1       int64\n",
       "BsmtFinType2       int64\n",
       "Heating            int64\n",
       "HeatingQC          int64\n",
       "CentralAir         int64\n",
       "Electrical         int64\n",
       "KitchenQual        int64\n",
       "Functional         int64\n",
       "GarageType         int64\n",
       "GarageFinish       int64\n",
       "GarageQual         int64\n",
       "GarageCond         int64\n",
       "PavedDrive         int64\n",
       "MoSold             int64\n",
       "SaleType           int64\n",
       "SaleCondition      int64\n",
       "dtype: object"
      ]
     },
     "execution_count": 162,
     "metadata": {},
     "output_type": "execute_result"
    }
   ],
   "source": []
  },
  {
   "cell_type": "markdown",
   "metadata": {},
   "source": [
    "## Linear Regression"
   ]
  },
  {
   "cell_type": "code",
   "execution_count": 129,
   "metadata": {},
   "outputs": [
    {
     "name": "stdout",
     "output_type": "stream",
     "text": [
      "CV PREDICTION ERROR FOR MULTIVARIATE LR\n",
      "2656881023.263894\n"
     ]
    }
   ],
   "source": [
    "lr_model = LinearRegression()\n",
    "metrics = cross_validate(lr_model, X,y,cv = 5, scoring = ('neg_root_mean_squared_error'))\n",
    "lr_cv = -metrics['test_score'].mean()\n",
    "print('CV PREDICTION ERROR FOR MULTIVARIATE LR')\n",
    "print(lr_cv)"
   ]
  },
  {
   "cell_type": "code",
   "execution_count": 88,
   "metadata": {},
   "outputs": [
    {
     "data": {
      "text/plain": [
       "0.9258276520543647"
      ]
     },
     "execution_count": 88,
     "metadata": {},
     "output_type": "execute_result"
    }
   ],
   "source": [
    "lr_model.fit(X,y)\n",
    "lr_model.score(X,y)"
   ]
  },
  {
   "cell_type": "markdown",
   "metadata": {},
   "source": [
    "The linear regression model gives a very high R squared of 0.926, but this is expected because we have included almost all features inside our regression model. Looking for adjusted r squared metric. We have 272 predictor variables in our model. \n",
    "\n",
    "The CV prediction error we are getting is abnormally high. We need to investigate this. Does not make sense, because it is a log(sales price) the RMSE cannot go into the millions"
   ]
  },
  {
   "cell_type": "markdown",
   "metadata": {},
   "source": [
    "## Ridge Regression"
   ]
  },
  {
   "cell_type": "code",
   "execution_count": 62,
   "metadata": {},
   "outputs": [
    {
     "name": "stdout",
     "output_type": "stream",
     "text": [
      "CV PREDICTION ERROR FOR UNTUNED RR\n",
      "0.14151972402903668\n"
     ]
    }
   ],
   "source": [
    "param_list = []\n",
    "start = 10\n",
    "for i in range(30):\n",
    "    param_list.append(start)\n",
    "    start = start + 0.25\n",
    "\n",
    "parameters = {'alpha': param_list} \n",
    "rr = Ridge()\n",
    "metrics = cross_validate(rr, X, y, cv = 5, scoring = ('neg_root_mean_squared_error'))\n",
    "print('CV PREDICTION ERROR FOR UNTUNED RR')\n",
    "print(-metrics['test_score'].mean())"
   ]
  },
  {
   "cell_type": "markdown",
   "metadata": {},
   "source": [
    "Tuning the ridge regression model"
   ]
  },
  {
   "cell_type": "code",
   "execution_count": 50,
   "metadata": {},
   "outputs": [
    {
     "name": "stdout",
     "output_type": "stream",
     "text": [
      "CV PREDICTION ERROR FOR TUNED RR\n",
      "0.1363310366409711\n",
      "{'alpha': 14.75}\n"
     ]
    }
   ],
   "source": [
    "tuned_rr = GridSearchCV(rr, parameters, scoring = 'neg_root_mean_squared_error', cv = 5)\n",
    "tuned_rr.fit(X,y)\n",
    "print('CV PREDICTION ERROR FOR TUNED RR')\n",
    "print(-tuned_rr.best_score_)\n",
    "print(tuned_rr.best_params_)"
   ]
  },
  {
   "cell_type": "markdown",
   "metadata": {},
   "source": [
    "We find the value of alpha that gives us the lowest cross validation prediction error. The alpha "
   ]
  },
  {
   "cell_type": "markdown",
   "metadata": {},
   "source": [
    "## Lasso Regression"
   ]
  },
  {
   "cell_type": "code",
   "execution_count": 9,
   "metadata": {
    "scrolled": true
   },
   "outputs": [
    {
     "name": "stdout",
     "output_type": "stream",
     "text": [
      "SCORE FOR UNTUNED LASSO\n",
      "0.3994558059361331\n"
     ]
    }
   ],
   "source": [
    "param_list = []\n",
    "start = 0.0001\n",
    "for i in range(30):\n",
    "    param_list.append(start)\n",
    "    start = start + 0.0001\n",
    "parameters2 = {'alpha': param_list}\n",
    "lasso = Lasso()\n",
    "lasso.fit(X,y)\n",
    "metrics = cross_validate(lasso, X,y, cv = 5, scoring = ('neg_root_mean_squared_error'))\n",
    "print('SCORE FOR UNTUNED LASSO')\n",
    "print(-metrics['test_score'].mean())"
   ]
  },
  {
   "cell_type": "markdown",
   "metadata": {},
   "source": [
    "Tuning the lasso regression model"
   ]
  },
  {
   "cell_type": "code",
   "execution_count": 10,
   "metadata": {},
   "outputs": [],
   "source": [
    "tuned_lasso = GridSearchCV(lasso, parameters2, scoring = 'neg_root_mean_squared_error', cv = 5)\n",
    "tuned_lasso.fit(X,y)\n",
    "best_param = tuned_lasso.best_params_['alpha']\n",
    "lasso_tuned = Lasso(alpha = best_param)\n",
    "lasso_tuned.fit(X,y)\n",
    "metrics = cross_validate(lasso_tuned, X,y, cv = 5, scoring = ('neg_root_mean_squared_error'))\n"
   ]
  },
  {
   "cell_type": "markdown",
   "metadata": {},
   "source": [
    "Analysis of tuned lasso regression model"
   ]
  },
  {
   "cell_type": "code",
   "execution_count": 11,
   "metadata": {
    "scrolled": true
   },
   "outputs": [
    {
     "name": "stdout",
     "output_type": "stream",
     "text": [
      "BASED ON CV, WE FOUND OPTIMAL ALPHA TO BE:\n",
      "0.0005\n",
      "0.13375088484596281\n",
      "\n",
      "\n",
      "FEATURES WITH NON ZERO COEFFICIENTS FOR LASSO\n",
      "['LotArea', 'OverallQual', 'OverallCond', 'YearBuilt', 'YearRemodAdd', 'MasVnrArea', 'TotalBsmtSF', '1stFlrSF', 'GrLivArea', 'BsmtFullBath', 'FullBath', 'HalfBath', 'BedroomAbvGr', 'TotRmsAbvGrd', 'Fireplaces', 'GarageCars', 'GarageArea', 'WoodDeckSF', 'OpenPorchSF', 'EnclosedPorch', 'ScreenPorch', 'MSSubClass_20', 'MSSubClass_50', 'MSZoning_RL', 'LotShape_IR2', 'LotConfig_Corner', 'LotConfig_CulDSac', 'Neighborhood_BrkSide', 'Neighborhood_ClearCr', 'Neighborhood_Crawfor', 'Neighborhood_NoRidge', 'Neighborhood_NridgHt', 'Neighborhood_Somerst', 'Neighborhood_StoneBr', 'Condition1_Norm', 'Condition1_RRAn', 'BldgType_1Fam', 'Exterior1st_BrkFace', 'Exterior1st_MetalSd', 'Exterior1st_VinylSd', 'Exterior2nd_VinylSd', 'Exterior2nd_Wd Sdng', 'ExterQual_Gd', 'ExterCond_TA', 'Foundation_PConc', 'BsmtQual_Ex', 'BsmtCond_TA', 'BsmtExposure_Gd', 'BsmtFinType1_ALQ', 'BsmtFinType1_GLQ', 'BsmtFinType2_Unf', 'Heating_GasW', 'HeatingQC_Ex', 'HeatingQC_Gd', 'Electrical_FuseA', 'KitchenQual_Ex', 'Functional_Typ', 'GarageType_Attchd', 'GarageType_Detchd', 'GarageQual_Gd', 'GarageCond_TA', 'PavedDrive_Y', 'MoSold_5', 'MoSold_6', 'MoSold_7', 'SaleCondition_Normal']\n"
     ]
    }
   ],
   "source": [
    "print('BASED ON CV, WE FOUND OPTIMAL ALPHA TO BE:')\n",
    "print(best_param)\n",
    "print(-tuned_lasso.best_score_)\n",
    "print()\n",
    "model_coefs = list(lasso_tuned.coef_)\n",
    "\n",
    "good_features = []\n",
    "for i in range(len(model_coefs)):\n",
    "    if model_coefs[i]> 0:\n",
    "        good_features.append(list(X.columns)[i])\n",
    "\n",
    "print('\\n'+'FEATURES WITH NON ZERO COEFFICIENTS FOR LASSO')\n",
    "print(good_features)"
   ]
  },
  {
   "cell_type": "code",
   "execution_count": 146,
   "metadata": {},
   "outputs": [
    {
     "name": "stdout",
     "output_type": "stream",
     "text": [
      "MSSubClass_20, MSSubClass_50, MSZoning_RL, LotShape_IR2, LotConfig_Corner, LotConfig_CulDSac, Neighborhood_BrkSide, Neighborhood_ClearCr, Neighborhood_Crawfor, Neighborhood_NoRidge, Neighborhood_NridgHt, Neighborhood_Somerst, Neighborhood_StoneBr, Condition1_Norm, Condition1_RRAn, BldgType_1Fam, Exterior1st_BrkFace, Exterior1st_MetalSd, Exterior1st_VinylSd, Exterior2nd_VinylSd, Exterior2nd_Wd Sdng, ExterQual_Gd, ExterCond_TA, Foundation_PConc, BsmtQual_Ex, BsmtCond_TA, BsmtExposure_Gd, BsmtFinType1_ALQ, BsmtFinType1_GLQ, BsmtFinType2_Unf, Heating_GasW, HeatingQC_Ex, HeatingQC_Gd, Electrical_FuseA, KitchenQual_Ex, Functional_Typ, GarageType_Attchd, GarageType_Detchd, GarageQual_Gd, GarageCond_TA, PavedDrive_Y, MoSold_5, MoSold_6, MoSold_7, SaleCondition_Normal, "
     ]
    }
   ],
   "source": [
    "for i in good_features:\n",
    "    if '_' in i:\n",
    "        print(i, end = ', ')"
   ]
  },
  {
   "cell_type": "markdown",
   "metadata": {},
   "source": [
    "We perform feature selection based on the coefficients of our lasso regression model, narrowing our features down from 273 to 66"
   ]
  },
  {
   "cell_type": "markdown",
   "metadata": {},
   "source": [
    "The value of alpha that gives us the lowest CV prediction error is 0.0004. This alpha value is very low: when alpha is low it means that the result (model coefficients) become similar to that of the linear regression model. Because the penalty that is placed on the coefficients in the optimisation function is lower"
   ]
  },
  {
   "cell_type": "markdown",
   "metadata": {},
   "source": [
    "Interesting selection of features: Based on the one hot encoding, not all were important. For example, for months, if variable was in month 5,6,7 seemed to have an impact. This incentivizes us to think that perhaps doing some feature engineering might improve the results. Change the classes found within some of the features which are categorical variables."
   ]
  },
  {
   "cell_type": "markdown",
   "metadata": {},
   "source": [
    "## Reworking based on feature selection"
   ]
  },
  {
   "cell_type": "code",
   "execution_count": 147,
   "metadata": {
    "scrolled": true
   },
   "outputs": [
    {
     "name": "stdout",
     "output_type": "stream",
     "text": [
      "CV PREDICTION ERROR FOR NEW FEATURE SET MULTIVARIATE LR\n"
     ]
    },
    {
     "data": {
      "text/plain": [
       "0.1363506795272889"
      ]
     },
     "execution_count": 147,
     "metadata": {},
     "output_type": "execute_result"
    }
   ],
   "source": [
    "new_feature_set = X[good_features]\n",
    "lr_model_selected = LinearRegression()\n",
    "metrics = cross_validate(lr_model_selected, new_feature_set, y, cv = 5,scoring = ('neg_root_mean_squared_error'))\n",
    "print('CV PREDICTION ERROR FOR NEW FEATURE SET MULTIVARIATE LR')\n",
    "-metrics['test_score'].mean()"
   ]
  },
  {
   "cell_type": "markdown",
   "metadata": {},
   "source": [
    "Running a linear regression model based on feature selection with our lasso regression model helps us derive a significantly lower CV prediction error at 0.136350"
   ]
  },
  {
   "cell_type": "code",
   "execution_count": 149,
   "metadata": {
    "scrolled": true
   },
   "outputs": [
    {
     "name": "stdout",
     "output_type": "stream",
     "text": [
      "CV PREDICTION ERROR FOR UNTUNED RR\n",
      "0.13615168713871634\n",
      "CV PREDICTION ERROR FOR TUNED RR\n",
      "0.1358895272237749\n",
      "{'alpha': 5.199999999999996}\n"
     ]
    }
   ],
   "source": [
    "param_list = []\n",
    "start = 4\n",
    "for i in range(30):\n",
    "    param_list.append(start)\n",
    "    start = start + 0.1\n",
    "#     start = start +\n",
    "\n",
    "parameters = {'alpha': param_list} \n",
    "rr = Ridge()\n",
    "metrics = cross_validate(rr, X[good_features], y, cv = 5, scoring = ('neg_root_mean_squared_error'))\n",
    "print('CV PREDICTION ERROR FOR UNTUNED RR')\n",
    "print(-metrics['test_score'].mean())\n",
    "\n",
    "tuned_rr = GridSearchCV(rr, parameters, scoring = 'neg_root_mean_squared_error', cv = 5)\n",
    "tuned_rr.fit(X[good_features],y)\n",
    "print('CV PREDICTION ERROR FOR TUNED RR')\n",
    "print(-tuned_rr.best_score_)\n",
    "print(tuned_rr.best_params_)"
   ]
  },
  {
   "cell_type": "markdown",
   "metadata": {},
   "source": [
    "We see little difference between our original ridge regression model and the new ridge regression model. CV prediction model is very similar, slight improvement when we incorporate feature selection"
   ]
  },
  {
   "cell_type": "code",
   "execution_count": 155,
   "metadata": {},
   "outputs": [
    {
     "name": "stdout",
     "output_type": "stream",
     "text": [
      "SCORE FOR UNTUNED LASSO\n",
      "0.3992282792085989\n"
     ]
    }
   ],
   "source": [
    "param_list = []\n",
    "start = 0.0001\n",
    "for i in range(30):\n",
    "    param_list.append(start)\n",
    "    start = start + 0.0001\n",
    "parameters2 = {'alpha': param_list}\n",
    "lasso = Lasso()\n",
    "lasso.fit(new_feature_set,y)\n",
    "metrics = cross_validate(lasso, new_feature_set,y, cv = 5, scoring = ('neg_root_mean_squared_error'))\n",
    "print('SCORE FOR UNTUNED LASSO')\n",
    "print(-metrics['test_score'].mean())"
   ]
  },
  {
   "cell_type": "code",
   "execution_count": 153,
   "metadata": {},
   "outputs": [],
   "source": [
    "tuned_lasso = GridSearchCV(lasso, parameters2, scoring = 'neg_root_mean_squared_error', cv = 5)\n",
    "tuned_lasso.fit(new_feature_set,y)\n",
    "best_param = tuned_lasso.best_params_['alpha']\n",
    "lasso_tuned = Lasso(alpha = best_param)\n",
    "lasso_tuned.fit(X,y)\n",
    "metrics = cross_validate(lasso_tuned, new_feature_set,y, cv = 5, scoring = ('neg_root_mean_squared_error'))\n"
   ]
  },
  {
   "cell_type": "code",
   "execution_count": 156,
   "metadata": {},
   "outputs": [
    {
     "name": "stdout",
     "output_type": "stream",
     "text": [
      "BASED ON CV, WE FOUND OPTIMAL ALPHA TO BE:\n",
      "0.0002\n",
      "0.1361328789193335\n",
      "\n"
     ]
    }
   ],
   "source": [
    "print('BASED ON CV, WE FOUND OPTIMAL ALPHA TO BE:')\n",
    "print(best_param)\n",
    "print(-tuned_lasso.best_score_)\n",
    "print()\n",
    "model_coefs = list(lasso_tuned.coef_)"
   ]
  },
  {
   "cell_type": "markdown",
   "metadata": {},
   "source": [
    "We found that the CV prediction error does not change after we include feature selection. This is because of the mechanism of the lasso regression, whereby insignificant variables are already shrunk towards 0"
   ]
  },
  {
   "cell_type": "markdown",
   "metadata": {},
   "source": [
    "## Random Forest"
   ]
  },
  {
   "cell_type": "code",
   "execution_count": 158,
   "metadata": {
    "scrolled": true
   },
   "outputs": [
    {
     "name": "stdout",
     "output_type": "stream",
     "text": [
      "{'bootstrap': True, 'ccp_alpha': 0.0, 'criterion': 'mse', 'max_depth': None, 'max_features': 'auto', 'max_leaf_nodes': 16, 'max_samples': None, 'min_impurity_decrease': 0.0, 'min_impurity_split': None, 'min_samples_leaf': 1, 'min_samples_split': 2, 'min_weight_fraction_leaf': 0.0, 'n_estimators': 500, 'n_jobs': -1, 'oob_score': True, 'random_state': None, 'verbose': 0, 'warm_start': False}\n",
      "\n",
      " This is the oob score:  0.8121027361263089\n"
     ]
    }
   ],
   "source": [
    "rf = RandomForestRegressor(n_estimators = 500, max_leaf_nodes = 16, n_jobs = -1, oob_score = True, bootstrap = True)\n",
    "rf.fit(label_X, y)\n",
    "print(rf.get_params())\n",
    "print('\\n This is the oob score: ', rf.oob_score_)\n",
    "rf_features = []\n",
    "\n",
    "for name, score in zip(list(label_X.columns),rf.feature_importances_):\n",
    "    if score > 0:\n",
    "#         print(name,score)\n",
    "        rf_features.append((name,score))\n"
   ]
  },
  {
   "cell_type": "code",
   "execution_count": 159,
   "metadata": {},
   "outputs": [
    {
     "data": {
      "text/plain": [
       "[('OverallQual', 0.665821012926399),\n",
       " ('GrLivArea', 0.11319715527923772),\n",
       " ('GarageCars', 0.051139507510936266),\n",
       " ('TotalBsmtSF', 0.042138666143041875),\n",
       " ('GarageArea', 0.0225711109943079),\n",
       " ('1stFlrSF', 0.01677671817892325),\n",
       " ('CentralAir', 0.013689246078000417),\n",
       " ('BsmtFinSF1', 0.012097073784310838),\n",
       " ('YearBuilt', 0.011694318905487168),\n",
       " ('GarageType', 0.010332965288313966),\n",
       " ('MSZoning', 0.006169996959914037),\n",
       " ('OverallCond', 0.005829875773830595),\n",
       " ('Fireplaces', 0.00478158055565348),\n",
       " ('LotArea', 0.0032406192086300635),\n",
       " ('2ndFlrSF', 0.002549869963349421),\n",
       " ('YearRemodAdd', 0.001999980907294007),\n",
       " ('BsmtQual', 0.0016517997813276057),\n",
       " ('KitchenAbvGr', 0.0013285668278279449),\n",
       " ('FullBath', 0.0011972895141757205),\n",
       " ('KitchenQual', 0.00102208167417436),\n",
       " ('Neighborhood', 0.0009461010438868233),\n",
       " ('PavedDrive', 0.0008789794047336572),\n",
       " ('LotShape', 0.0008760005713518509),\n",
       " ('GarageQual', 0.0007916029271450408),\n",
       " ('ExterQual', 0.0006951435314089695),\n",
       " ('ExterCond', 0.0006597847371302012),\n",
       " ('TotRmsAbvGrd', 0.0006235509324622777),\n",
       " ('BsmtFinType1', 0.0005470202179960946),\n",
       " ('GarageFinish', 0.0004852092337900362),\n",
       " ('OpenPorchSF', 0.00042536920566429016),\n",
       " ('MasVnrArea', 0.0004202053227840834),\n",
       " ('GarageCond', 0.0003879929604388735),\n",
       " ('LandContour', 0.0003692331115597209),\n",
       " ('Exterior1st', 0.0002789026483721881),\n",
       " ('SaleCondition', 0.00024805510005314693),\n",
       " ('BsmtUnfSF', 0.00023409454467033044),\n",
       " ('Electrical', 0.0002198693360176349),\n",
       " ('WoodDeckSF', 0.00020393243147155682),\n",
       " ('BedroomAbvGr', 0.000201120678756613),\n",
       " ('Exterior2nd', 0.00017660393438216285),\n",
       " ('MSSubClass', 0.00016943644295557258),\n",
       " ('BsmtFullBath', 0.0001671044674677938),\n",
       " ('MoSold', 0.00016053858072780216),\n",
       " ('BldgType', 0.00014247945875599835),\n",
       " ('EnclosedPorch', 0.00011630290637929826),\n",
       " ('BsmtCond', 8.872475017241381e-05),\n",
       " ('HeatingQC', 5.756609475902207e-05),\n",
       " ('BsmtExposure', 5.475060607843498e-05),\n",
       " ('HouseStyle', 3.89436584802769e-05),\n",
       " ('HalfBath', 3.799160339392214e-05),\n",
       " ('Condition1', 3.220047308778006e-05),\n",
       " ('Heating', 1.9035463017066365e-05),\n",
       " ('Foundation', 1.6717365513792545e-05)]"
      ]
     },
     "execution_count": 159,
     "metadata": {},
     "output_type": "execute_result"
    }
   ],
   "source": [
    "rf_features.sort(key = lambda x:x[1], reverse = True)\n",
    "rf_features"
   ]
  },
  {
   "cell_type": "code",
   "execution_count": 120,
   "metadata": {},
   "outputs": [
    {
     "name": "stdout",
     "output_type": "stream",
     "text": [
      "LASSO REGRESSION FEATURES SELECTED: \n",
      " ['LotArea', 'OverallQual', 'OverallCond', 'YearBuilt', 'YearRemodAdd', 'MasVnrArea', 'TotalBsmtSF', '1stFlrSF', 'GrLivArea', 'BsmtFullBath', 'FullBath', 'HalfBath', 'BedroomAbvGr', 'TotRmsAbvGrd', 'Fireplaces', 'GarageCars', 'GarageArea', 'WoodDeckSF', 'OpenPorchSF', 'EnclosedPorch', 'ScreenPorch', 'MSSubClass_20', 'MSSubClass_50', 'MSZoning_RL', 'LotShape_IR2', 'LotConfig_Corner', 'LotConfig_CulDSac', 'Neighborhood_BrkSide', 'Neighborhood_ClearCr', 'Neighborhood_Crawfor', 'Neighborhood_NoRidge', 'Neighborhood_NridgHt', 'Neighborhood_Somerst', 'Neighborhood_StoneBr', 'Condition1_Norm', 'Condition1_RRAn', 'BldgType_1Fam', 'Exterior1st_BrkFace', 'Exterior1st_MetalSd', 'Exterior1st_VinylSd', 'Exterior2nd_VinylSd', 'Exterior2nd_Wd Sdng', 'ExterQual_Gd', 'ExterCond_TA', 'Foundation_PConc', 'BsmtQual_Ex', 'BsmtCond_TA', 'BsmtExposure_Gd', 'BsmtFinType1_ALQ', 'BsmtFinType1_GLQ', 'BsmtFinType2_Unf', 'Heating_GasW', 'HeatingQC_Ex', 'HeatingQC_Gd', 'Electrical_FuseA', 'KitchenQual_Ex', 'Functional_Typ', 'GarageType_Attchd', 'GarageType_Detchd', 'GarageQual_Gd', 'GarageCond_TA', 'PavedDrive_Y', 'MoSold_5', 'MoSold_6', 'MoSold_7', 'SaleCondition_Normal']\n",
      "\n",
      "FEATURES USED TO SPLIT RF: \n",
      " [('OverallQual', 0.674805475449973), ('GrLivArea', 0.11244715250258515), ('GarageCars', 0.04779163699003051), ('TotalBsmtSF', 0.04000795512283817), ('GarageArea', 0.01986046391323399), ('1stFlrSF', 0.019371690539440236), ('CentralAir', 0.01353328436848846), ('BsmtFinSF1', 0.011638406928594894), ('YearBuilt', 0.011084903220925313), ('GarageType', 0.010349294579978663), ('MSZoning', 0.00603239062389253), ('OverallCond', 0.005627502165744823), ('Fireplaces', 0.003660254628350284), ('LotArea', 0.0030008512658483482), ('2ndFlrSF', 0.002607721268175832), ('YearRemodAdd', 0.002213920599131905), ('KitchenAbvGr', 0.0015825663843682626), ('BsmtQual', 0.0015778952743006691), ('FullBath', 0.0014283582624301338), ('GarageFinish', 0.0010088926924531273), ('KitchenQual', 0.0007967634355949317), ('Neighborhood', 0.0007902461182860259), ('PavedDrive', 0.0007591763321521804), ('LotShape', 0.0007413493521017665), ('TotRmsAbvGrd', 0.0006976213046268587), ('MasVnrArea', 0.0006181209753047485), ('ExterCond', 0.0006121077131171905), ('GarageQual', 0.0005416215862228731), ('OpenPorchSF', 0.0005275905658056277), ('SaleCondition', 0.00048662407605293663), ('BsmtFinType1', 0.00048051689279865006), ('GarageCond', 0.0004295489793346033), ('ExterQual', 0.00041576182783515796), ('MSSubClass', 0.00034129707741807283), ('Exterior1st', 0.00032778661522937997), ('LandContour', 0.00022958066570855727), ('BedroomAbvGr', 0.00021685989919800088), ('Electrical', 0.00019928821622146965), ('BsmtUnfSF', 0.00018763824967275004), ('WoodDeckSF', 0.00014943360269677446), ('HouseStyle', 0.00014048623226429612), ('HalfBath', 0.00012349576783533635), ('BsmtFullBath', 7.826783941340544e-05), ('Exterior2nd', 6.76225529037676e-05), ('Condition1', 6.008234274464511e-05), ('EnclosedPorch', 5.843981187732172e-05), ('BsmtCond', 5.6174805397067216e-05), ('SaleType', 5.20156620235073e-05), ('MoSold', 4.0160370938873484e-05), ('RoofStyle', 3.958484773655435e-05), ('BsmtExposure', 3.8161152397908443e-05), ('BldgType', 2.8003471084689882e-05), ('HeatingQC', 2.0149604744831387e-05), ('Heating', 1.7805272475035498e-05)]\n"
     ]
    }
   ],
   "source": [
    "print('LASSO REGRESSION FEATURES SELECTED: \\n', good_features)\n",
    "print()\n",
    "print('FEATURES USED TO SPLIT RF: \\n', rf_features)"
   ]
  },
  {
   "cell_type": "markdown",
   "metadata": {},
   "source": [
    "Running our analysis we can see very similar features being used to split our decision trees, and the features selected by the LASSO regression model"
   ]
  },
  {
   "cell_type": "markdown",
   "metadata": {},
   "source": [
    "## Tuning of RF model"
   ]
  },
  {
   "cell_type": "markdown",
   "metadata": {},
   "source": [
    "Using the OOB score to evaluate the random forest model gives us an extremely high OOB r^2 score. \n",
    "Based on the model, we also see that many features have very low importance, and this incentivizes us to revisit the variable selection methodology that we adopted earlier."
   ]
  },
  {
   "cell_type": "markdown",
   "metadata": {},
   "source": [
    "See if these features are similar to the features that selected based on the lasso regression model"
   ]
  },
  {
   "cell_type": "markdown",
   "metadata": {},
   "source": [
    "We try hyperparameter search using random hyperparameter grid, so that we can find optimum hyperparamters for our random forest model"
   ]
  },
  {
   "cell_type": "code",
   "execution_count": 98,
   "metadata": {},
   "outputs": [
    {
     "name": "stdout",
     "output_type": "stream",
     "text": [
      "{'n_estimators': [200, 400, 600, 800, 1000, 1200, 1400, 1600, 1800, 2000], 'max_features': ['auto', 'sqrt'], 'max_depth': [10, 20, 30, 40, 50, 60, 70, 80, 90, 100, 110, None], 'min_samples_split': [2, 5, 10], 'min_samples_leaf': [1, 2, 4], 'bootstrap': [True, False]}\n"
     ]
    }
   ],
   "source": [
    "n_estimators = [int(x) for x in np.linspace(start = 200, stop = 2000, num =10)]\n",
    "max_features = ['auto', 'sqrt']\n",
    "max_depth = [int(x) for x in np.linspace(10,110,num =11)]\n",
    "max_depth.append(None)\n",
    "min_samples_split = [2,5,10]\n",
    "min_samples_leaf = [1,2,4]\n",
    "bootstrap = [True, False]\n",
    "random_grid = {'n_estimators': n_estimators,\n",
    "               'max_features': max_features,\n",
    "               'max_depth': max_depth,\n",
    "               'min_samples_split': min_samples_split,\n",
    "               'min_samples_leaf': min_samples_leaf,\n",
    "               'bootstrap': bootstrap}\n",
    "print(random_grid)"
   ]
  },
  {
   "cell_type": "code",
   "execution_count": 100,
   "metadata": {
    "scrolled": true
   },
   "outputs": [
    {
     "name": "stdout",
     "output_type": "stream",
     "text": [
      "Fitting 5 folds for each of 25 candidates, totalling 125 fits\n"
     ]
    },
    {
     "name": "stderr",
     "output_type": "stream",
     "text": [
      "[Parallel(n_jobs=-1)]: Using backend LokyBackend with 12 concurrent workers.\n",
      "[Parallel(n_jobs=-1)]: Done  17 tasks      | elapsed:   12.8s\n",
      "[Parallel(n_jobs=-1)]: Done 125 out of 125 | elapsed:  3.6min finished\n"
     ]
    },
    {
     "name": "stdout",
     "output_type": "stream",
     "text": [
      "THIS IS THE BEST SCORE\n",
      "0.13586182777048264\n",
      "THIS IS THE BEST PARAMS\n",
      "{'n_estimators': 800, 'min_samples_split': 2, 'min_samples_leaf': 1, 'max_features': 'sqrt', 'max_depth': 20, 'bootstrap': False}\n"
     ]
    }
   ],
   "source": [
    "rf = RandomForestRegressor()\n",
    "rf_random = RandomizedSearchCV(estimator = rf, param_distributions = random_grid, n_iter = 25, cv =5, verbose = 2, random_state = 42, n_jobs = -1, scoring = 'neg_root_mean_squared_error')\n",
    "rf_random.fit(label_X, y)\n",
    "print('THIS IS THE BEST SCORE')\n",
    "print(-rf_random.best_score_)\n",
    "print('THIS IS THE BEST PARAMS')\n",
    "print(rf_random.best_params_)"
   ]
  },
  {
   "cell_type": "markdown",
   "metadata": {},
   "source": [
    "We narrowed down the scope of the analysis. We can now adopt grid search with cross validation to do a more in depth search of the optimum hyperparameters\n",
    "\n",
    "Using our paramaters, we derived CV prediction error of 0.13586, based on 5 fold CV."
   ]
  },
  {
   "cell_type": "code",
   "execution_count": 91,
   "metadata": {},
   "outputs": [],
   "source": [
    "\n",
    "param_grid = {\n",
    "    'max_depth': [20,25,15],\n",
    "    'min_samples_leaf': [1],\n",
    "    'min_samples_split': [2],\n",
    "    'max_features' : ['sqrt'],\n",
    "    'n_estimators': [800,850, 750]\n",
    "#     'bootstrap': [False]\n",
    "}\n"
   ]
  },
  {
   "cell_type": "code",
   "execution_count": 160,
   "metadata": {},
   "outputs": [
    {
     "ename": "NameError",
     "evalue": "name 'param_grid' is not defined",
     "output_type": "error",
     "traceback": [
      "\u001b[0;31m---------------------------------------------------------------------------\u001b[0m",
      "\u001b[0;31mNameError\u001b[0m                                 Traceback (most recent call last)",
      "\u001b[0;32m<ipython-input-160-0b39680bd1ba>\u001b[0m in \u001b[0;36m<module>\u001b[0;34m\u001b[0m\n\u001b[0;32m----> 1\u001b[0;31m \u001b[0mgrid_search\u001b[0m \u001b[0;34m=\u001b[0m \u001b[0mGridSearchCV\u001b[0m\u001b[0;34m(\u001b[0m\u001b[0mestimator\u001b[0m \u001b[0;34m=\u001b[0m \u001b[0mrf\u001b[0m\u001b[0;34m,\u001b[0m \u001b[0mparam_grid\u001b[0m \u001b[0;34m=\u001b[0m \u001b[0mparam_grid\u001b[0m\u001b[0;34m,\u001b[0m \u001b[0mcv\u001b[0m \u001b[0;34m=\u001b[0m \u001b[0;36m5\u001b[0m\u001b[0;34m,\u001b[0m \u001b[0mn_jobs\u001b[0m\u001b[0;34m=\u001b[0m \u001b[0;34m-\u001b[0m\u001b[0;36m1\u001b[0m\u001b[0;34m,\u001b[0m \u001b[0mverbose\u001b[0m \u001b[0;34m=\u001b[0m \u001b[0;36m2\u001b[0m\u001b[0;34m,\u001b[0m \u001b[0mscoring\u001b[0m \u001b[0;34m=\u001b[0m \u001b[0;34m'neg_root_mean_squared_error'\u001b[0m\u001b[0;34m)\u001b[0m\u001b[0;34m\u001b[0m\u001b[0;34m\u001b[0m\u001b[0m\n\u001b[0m\u001b[1;32m      2\u001b[0m \u001b[0mgrid_search\u001b[0m\u001b[0;34m.\u001b[0m\u001b[0mfit\u001b[0m\u001b[0;34m(\u001b[0m\u001b[0mX\u001b[0m\u001b[0;34m,\u001b[0m\u001b[0my\u001b[0m\u001b[0;34m)\u001b[0m\u001b[0;34m\u001b[0m\u001b[0;34m\u001b[0m\u001b[0m\n\u001b[1;32m      3\u001b[0m \u001b[0;31m# print(grid_search.best_params_)\u001b[0m\u001b[0;34m\u001b[0m\u001b[0;34m\u001b[0m\u001b[0;34m\u001b[0m\u001b[0m\n\u001b[1;32m      4\u001b[0m \u001b[0mprint\u001b[0m\u001b[0;34m(\u001b[0m\u001b[0;34m'SCORE FOR RF'\u001b[0m\u001b[0;34m)\u001b[0m\u001b[0;34m\u001b[0m\u001b[0;34m\u001b[0m\u001b[0m\n\u001b[1;32m      5\u001b[0m \u001b[0mprint\u001b[0m\u001b[0;34m(\u001b[0m\u001b[0;34m-\u001b[0m\u001b[0mgrid_search\u001b[0m\u001b[0;34m.\u001b[0m\u001b[0mbest_score_\u001b[0m\u001b[0;34m)\u001b[0m\u001b[0;34m\u001b[0m\u001b[0;34m\u001b[0m\u001b[0m\n",
      "\u001b[0;31mNameError\u001b[0m: name 'param_grid' is not defined"
     ]
    }
   ],
   "source": [
    "grid_search = GridSearchCV(estimator = rf, param_grid = param_grid, cv = 5, n_jobs= -1, verbose = 2, scoring = 'neg_root_mean_squared_error')\n",
    "grid_search.fit(X,y)\n",
    "# print(grid_search.best_params_)\n",
    "print('SCORE FOR RF')\n",
    "print(-grid_search.best_score_)"
   ]
  },
  {
   "cell_type": "markdown",
   "metadata": {},
   "source": [
    "## Other concerns and questions"
   ]
  },
  {
   "cell_type": "markdown",
   "metadata": {},
   "source": [
    "1. Incorporating variable selection into our model \n",
    "2. On the internet, everybody is approaching with validation set approach so that they can check whether there is overfitting. How can we check for overfitting when we use a random forest model?\n",
    "3. Why do people still use the validation set approach when using cross validation is supposed to help with this? You check across the different parameters to see which set of parameters gives you the lowest CV error"
   ]
  }
 ],
 "metadata": {
  "kernelspec": {
   "display_name": "Python 3.7.6 64-bit ('3.7.6': pyenv)",
   "language": "python",
   "name": "python37664bit376pyenv016fc51dfd1643ccadebf36b5d805c09"
  },
  "language_info": {
   "codemirror_mode": {
    "name": "ipython",
    "version": 3
   },
   "file_extension": ".py",
   "mimetype": "text/x-python",
   "name": "python",
   "nbconvert_exporter": "python",
   "pygments_lexer": "ipython3",
   "version": "3.7.6"
  }
 },
 "nbformat": 4,
 "nbformat_minor": 4
}
