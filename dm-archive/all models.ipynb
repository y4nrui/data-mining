{
 "cells": [
  {
   "cell_type": "code",
   "execution_count": 1,
   "metadata": {},
   "outputs": [],
   "source": [
    "import pandas as pd\n",
    "import numpy as np\n",
    "import seaborn as sns\n",
    "import matplotlib.pyplot as plt\n",
    "%matplotlib inline"
   ]
  },
  {
   "cell_type": "code",
   "execution_count": 2,
   "metadata": {},
   "outputs": [],
   "source": [
    "housing = pd.read_csv('from-jan-2015-onward-scaled.csv')"
   ]
  },
  {
   "cell_type": "code",
   "execution_count": 3,
   "metadata": {},
   "outputs": [
    {
     "data": {
      "text/html": [
       "<div>\n",
       "<style scoped>\n",
       "    .dataframe tbody tr th:only-of-type {\n",
       "        vertical-align: middle;\n",
       "    }\n",
       "\n",
       "    .dataframe tbody tr th {\n",
       "        vertical-align: top;\n",
       "    }\n",
       "\n",
       "    .dataframe thead th {\n",
       "        text-align: right;\n",
       "    }\n",
       "</style>\n",
       "<table border=\"1\" class=\"dataframe\">\n",
       "  <thead>\n",
       "    <tr style=\"text-align: right;\">\n",
       "      <th></th>\n",
       "      <th>month</th>\n",
       "      <th>town</th>\n",
       "      <th>flat_type</th>\n",
       "      <th>block</th>\n",
       "      <th>street_name</th>\n",
       "      <th>storey_range</th>\n",
       "      <th>floor_area_sqm</th>\n",
       "      <th>flat_model</th>\n",
       "      <th>lease_commence_date</th>\n",
       "      <th>remaining_lease</th>\n",
       "      <th>...</th>\n",
       "      <th>scaled_floor_area_sqm</th>\n",
       "      <th>scaled_lease_commence_date</th>\n",
       "      <th>scaled_remaining_lease</th>\n",
       "      <th>scaled_resale_price</th>\n",
       "      <th>scaled_storey_range</th>\n",
       "      <th>scaled_latitude</th>\n",
       "      <th>scaled_longitude</th>\n",
       "      <th>minDistanceFromMall</th>\n",
       "      <th>minDistanceFromMrt</th>\n",
       "      <th>minDistFromSch</th>\n",
       "    </tr>\n",
       "  </thead>\n",
       "  <tbody>\n",
       "    <tr>\n",
       "      <th>0</th>\n",
       "      <td>2015-01</td>\n",
       "      <td>ANG MO KIO</td>\n",
       "      <td>3 ROOM</td>\n",
       "      <td>174</td>\n",
       "      <td>ANG MO KIO AVE 4</td>\n",
       "      <td>8</td>\n",
       "      <td>60.0</td>\n",
       "      <td>Improved</td>\n",
       "      <td>1986</td>\n",
       "      <td>70.0</td>\n",
       "      <td>...</td>\n",
       "      <td>-1.54</td>\n",
       "      <td>-0.57</td>\n",
       "      <td>-0.36</td>\n",
       "      <td>-1.24</td>\n",
       "      <td>-0.08</td>\n",
       "      <td>0.19</td>\n",
       "      <td>-0.02</td>\n",
       "      <td>893.28</td>\n",
       "      <td>988.96</td>\n",
       "      <td>210.90</td>\n",
       "    </tr>\n",
       "    <tr>\n",
       "      <th>1</th>\n",
       "      <td>2015-01</td>\n",
       "      <td>ANG MO KIO</td>\n",
       "      <td>3 ROOM</td>\n",
       "      <td>541</td>\n",
       "      <td>ANG MO KIO AVE 10</td>\n",
       "      <td>2</td>\n",
       "      <td>68.0</td>\n",
       "      <td>New Generation</td>\n",
       "      <td>1981</td>\n",
       "      <td>65.0</td>\n",
       "      <td>...</td>\n",
       "      <td>-1.21</td>\n",
       "      <td>-0.98</td>\n",
       "      <td>-0.78</td>\n",
       "      <td>-1.10</td>\n",
       "      <td>-1.15</td>\n",
       "      <td>0.17</td>\n",
       "      <td>0.23</td>\n",
       "      <td>813.15</td>\n",
       "      <td>718.27</td>\n",
       "      <td>420.36</td>\n",
       "    </tr>\n",
       "    <tr>\n",
       "      <th>2</th>\n",
       "      <td>2015-01</td>\n",
       "      <td>ANG MO KIO</td>\n",
       "      <td>3 ROOM</td>\n",
       "      <td>163</td>\n",
       "      <td>ANG MO KIO AVE 4</td>\n",
       "      <td>2</td>\n",
       "      <td>69.0</td>\n",
       "      <td>New Generation</td>\n",
       "      <td>1980</td>\n",
       "      <td>64.0</td>\n",
       "      <td>...</td>\n",
       "      <td>-1.17</td>\n",
       "      <td>-1.06</td>\n",
       "      <td>-0.86</td>\n",
       "      <td>-1.03</td>\n",
       "      <td>-1.15</td>\n",
       "      <td>0.16</td>\n",
       "      <td>-0.01</td>\n",
       "      <td>796.22</td>\n",
       "      <td>1063.13</td>\n",
       "      <td>350.03</td>\n",
       "    </tr>\n",
       "    <tr>\n",
       "      <th>3</th>\n",
       "      <td>2015-01</td>\n",
       "      <td>ANG MO KIO</td>\n",
       "      <td>3 ROOM</td>\n",
       "      <td>446</td>\n",
       "      <td>ANG MO KIO AVE 10</td>\n",
       "      <td>2</td>\n",
       "      <td>68.0</td>\n",
       "      <td>New Generation</td>\n",
       "      <td>1979</td>\n",
       "      <td>63.0</td>\n",
       "      <td>...</td>\n",
       "      <td>-1.21</td>\n",
       "      <td>-1.14</td>\n",
       "      <td>-0.94</td>\n",
       "      <td>-1.00</td>\n",
       "      <td>-1.15</td>\n",
       "      <td>0.02</td>\n",
       "      <td>0.23</td>\n",
       "      <td>706.92</td>\n",
       "      <td>619.75</td>\n",
       "      <td>344.59</td>\n",
       "    </tr>\n",
       "    <tr>\n",
       "      <th>4</th>\n",
       "      <td>2015-01</td>\n",
       "      <td>ANG MO KIO</td>\n",
       "      <td>3 ROOM</td>\n",
       "      <td>557</td>\n",
       "      <td>ANG MO KIO AVE 10</td>\n",
       "      <td>8</td>\n",
       "      <td>68.0</td>\n",
       "      <td>New Generation</td>\n",
       "      <td>1980</td>\n",
       "      <td>64.0</td>\n",
       "      <td>...</td>\n",
       "      <td>-1.21</td>\n",
       "      <td>-1.06</td>\n",
       "      <td>-0.86</td>\n",
       "      <td>-1.00</td>\n",
       "      <td>-0.08</td>\n",
       "      <td>0.11</td>\n",
       "      <td>0.26</td>\n",
       "      <td>952.44</td>\n",
       "      <td>830.38</td>\n",
       "      <td>598.22</td>\n",
       "    </tr>\n",
       "  </tbody>\n",
       "</table>\n",
       "<p>5 rows × 25 columns</p>\n",
       "</div>"
      ],
      "text/plain": [
       "     month        town flat_type block        street_name  storey_range  \\\n",
       "0  2015-01  ANG MO KIO    3 ROOM   174   ANG MO KIO AVE 4             8   \n",
       "1  2015-01  ANG MO KIO    3 ROOM   541  ANG MO KIO AVE 10             2   \n",
       "2  2015-01  ANG MO KIO    3 ROOM   163   ANG MO KIO AVE 4             2   \n",
       "3  2015-01  ANG MO KIO    3 ROOM   446  ANG MO KIO AVE 10             2   \n",
       "4  2015-01  ANG MO KIO    3 ROOM   557  ANG MO KIO AVE 10             8   \n",
       "\n",
       "   floor_area_sqm      flat_model  lease_commence_date  remaining_lease  ...  \\\n",
       "0            60.0        Improved                 1986             70.0  ...   \n",
       "1            68.0  New Generation                 1981             65.0  ...   \n",
       "2            69.0  New Generation                 1980             64.0  ...   \n",
       "3            68.0  New Generation                 1979             63.0  ...   \n",
       "4            68.0  New Generation                 1980             64.0  ...   \n",
       "\n",
       "   scaled_floor_area_sqm scaled_lease_commence_date  scaled_remaining_lease  \\\n",
       "0                  -1.54                      -0.57                   -0.36   \n",
       "1                  -1.21                      -0.98                   -0.78   \n",
       "2                  -1.17                      -1.06                   -0.86   \n",
       "3                  -1.21                      -1.14                   -0.94   \n",
       "4                  -1.21                      -1.06                   -0.86   \n",
       "\n",
       "   scaled_resale_price scaled_storey_range  scaled_latitude  scaled_longitude  \\\n",
       "0                -1.24               -0.08             0.19             -0.02   \n",
       "1                -1.10               -1.15             0.17              0.23   \n",
       "2                -1.03               -1.15             0.16             -0.01   \n",
       "3                -1.00               -1.15             0.02              0.23   \n",
       "4                -1.00               -0.08             0.11              0.26   \n",
       "\n",
       "   minDistanceFromMall  minDistanceFromMrt  minDistFromSch  \n",
       "0               893.28              988.96          210.90  \n",
       "1               813.15              718.27          420.36  \n",
       "2               796.22             1063.13          350.03  \n",
       "3               706.92              619.75          344.59  \n",
       "4               952.44              830.38          598.22  \n",
       "\n",
       "[5 rows x 25 columns]"
      ]
     },
     "execution_count": 3,
     "metadata": {},
     "output_type": "execute_result"
    }
   ],
   "source": [
    "round(housing.head(),2)"
   ]
  },
  {
   "cell_type": "code",
   "execution_count": null,
   "metadata": {},
   "outputs": [],
   "source": [
    "housing.columns"
   ]
  },
  {
   "cell_type": "code",
   "execution_count": 4,
   "metadata": {},
   "outputs": [],
   "source": [
    "X = housing[['scaled_floor_area_sqm','scaled_remaining_lease','scaled_storey_range']]\n",
    "\n",
    "y = housing['scaled_resale_price'] "
   ]
  },
  {
   "cell_type": "code",
   "execution_count": 5,
   "metadata": {},
   "outputs": [],
   "source": [
    "from sklearn.model_selection import train_test_split \n",
    "X_train, X_test, y_train, y_test = train_test_split(X,y, test_size = 0.2, random_state = 101)"
   ]
  },
  {
   "cell_type": "code",
   "execution_count": 6,
   "metadata": {},
   "outputs": [],
   "source": [
    "from sklearn.linear_model import LinearRegression"
   ]
  },
  {
   "cell_type": "markdown",
   "metadata": {},
   "source": [
    "# Linear Model"
   ]
  },
  {
   "cell_type": "code",
   "execution_count": 27,
   "metadata": {},
   "outputs": [
    {
     "data": {
      "text/plain": [
       "LinearRegression()"
      ]
     },
     "execution_count": 27,
     "metadata": {},
     "output_type": "execute_result"
    }
   ],
   "source": [
    "lm = LinearRegression()\n",
    "lm.fit(X_train, y_train)"
   ]
  },
  {
   "cell_type": "code",
   "execution_count": 28,
   "metadata": {},
   "outputs": [],
   "source": [
    "y_pred_linear = lm.predict(X_test)"
   ]
  },
  {
   "cell_type": "code",
   "execution_count": 29,
   "metadata": {},
   "outputs": [],
   "source": [
    "from sklearn import metrics\n",
    "from sklearn.metrics import mean_squared_error\n",
    "from sklearn.metrics import r2_score\n",
    "\n",
    "mse_linear = mean_squared_error(y_test, y_pred_linear)\n",
    "r2_linear = r2_score(y_test, y_pred_linear)"
   ]
  },
  {
   "cell_type": "code",
   "execution_count": 30,
   "metadata": {},
   "outputs": [
    {
     "name": "stdout",
     "output_type": "stream",
     "text": [
      "Mean squared error for linear model: 0.457836698001071\n",
      "R2 score for linear model: 0.5374896350823287\n"
     ]
    }
   ],
   "source": [
    "print (f\"Mean squared error for linear model: {mse_linear}\")\n",
    "print (f\"R2 score for linear model: {r2_linear}\")"
   ]
  },
  {
   "cell_type": "markdown",
   "metadata": {},
   "source": [
    "# Lasso"
   ]
  },
  {
   "cell_type": "code",
   "execution_count": 31,
   "metadata": {},
   "outputs": [
    {
     "data": {
      "text/plain": [
       "Lasso()"
      ]
     },
     "execution_count": 31,
     "metadata": {},
     "output_type": "execute_result"
    }
   ],
   "source": [
    "from sklearn.linear_model import Lasso\n",
    "lassoReg = Lasso()\n",
    "lassoReg.fit(X_train,y_train)"
   ]
  },
  {
   "cell_type": "code",
   "execution_count": 32,
   "metadata": {},
   "outputs": [],
   "source": [
    "y_pred_lasso = lassoReg.predict(X_test)"
   ]
  },
  {
   "cell_type": "code",
   "execution_count": 33,
   "metadata": {},
   "outputs": [],
   "source": [
    "lasso_mse = mean_squared_error(y_test, y_pred_lasso)\n",
    "lasso_r2 = r2_score(y_test, y_pred_lasso)"
   ]
  },
  {
   "cell_type": "code",
   "execution_count": 34,
   "metadata": {},
   "outputs": [
    {
     "name": "stdout",
     "output_type": "stream",
     "text": [
      "Mean squared error for Lasso model: 0.989966448995565\n",
      "R2 score for linear model: -7.217765693146028e-05\n"
     ]
    }
   ],
   "source": [
    "print (f\"Mean squared error for Lasso model: {lasso_mse}\")\n",
    "print (f\"R2 score for Lasso model: {lasso_r2}\")"
   ]
  },
  {
   "cell_type": "markdown",
   "metadata": {},
   "source": [
    "# Ridge"
   ]
  },
  {
   "cell_type": "code",
   "execution_count": 38,
   "metadata": {},
   "outputs": [
    {
     "data": {
      "text/plain": [
       "Ridge()"
      ]
     },
     "execution_count": 38,
     "metadata": {},
     "output_type": "execute_result"
    }
   ],
   "source": [
    "from sklearn.linear_model import Ridge\n",
    "ridgeReg = Ridge()\n",
    "ridgeReg.fit(X_train,y_train)\n"
   ]
  },
  {
   "cell_type": "code",
   "execution_count": 39,
   "metadata": {},
   "outputs": [],
   "source": [
    "rpred=ridgeReg.predict(X_test)"
   ]
  },
  {
   "cell_type": "code",
   "execution_count": 40,
   "metadata": {},
   "outputs": [],
   "source": [
    "ridge_mse = mean_squared_error(y_test, rpred)\n",
    "ridge_r2 = r2_score(y_test,rpred)"
   ]
  },
  {
   "cell_type": "code",
   "execution_count": 41,
   "metadata": {},
   "outputs": [
    {
     "name": "stdout",
     "output_type": "stream",
     "text": [
      "Mean squared error for Lasso model: 0.45783661888035754\n",
      "R2 score for linear model: 0.5374897150107185\n"
     ]
    }
   ],
   "source": [
    "print (f\"Mean squared error for Ridge model: {ridge_mse}\")\n",
    "print (f\"R2 score for Ridge model: {ridge_r2}\")"
   ]
  },
  {
   "cell_type": "code",
   "execution_count": null,
   "metadata": {},
   "outputs": [],
   "source": []
  },
  {
   "cell_type": "markdown",
   "metadata": {},
   "source": [
    "# Elastic Net"
   ]
  },
  {
   "cell_type": "code",
   "execution_count": 43,
   "metadata": {},
   "outputs": [
    {
     "data": {
      "text/plain": [
       "ElasticNet()"
      ]
     },
     "execution_count": 43,
     "metadata": {},
     "output_type": "execute_result"
    }
   ],
   "source": [
    "from sklearn.linear_model import ElasticNet\n",
    "ENreg = ElasticNet()\n",
    "ENreg.fit(X_train,y_train)"
   ]
  },
  {
   "cell_type": "code",
   "execution_count": 44,
   "metadata": {},
   "outputs": [],
   "source": [
    "Epred = ENreg.predict(X_test)"
   ]
  },
  {
   "cell_type": "code",
   "execution_count": 45,
   "metadata": {},
   "outputs": [],
   "source": [
    "elastic_mse = mean_squared_error(y_test, Epred)\n",
    "elastic_r2 = r2_score(y_test, Epred)"
   ]
  },
  {
   "cell_type": "code",
   "execution_count": 46,
   "metadata": {},
   "outputs": [
    {
     "name": "stdout",
     "output_type": "stream",
     "text": [
      "Mean squared error for Elastic model: 0.8794687730463163\n",
      "R2 score for Elastic model: 0.11155347543940908\n"
     ]
    }
   ],
   "source": [
    "print (f\"Mean squared error for Elastic model: {elastic_mse}\")\n",
    "print (f\"R2 score for Elastic model: {elastic_r2}\")"
   ]
  },
  {
   "cell_type": "code",
   "execution_count": null,
   "metadata": {},
   "outputs": [],
   "source": []
  },
  {
   "cell_type": "code",
   "execution_count": null,
   "metadata": {},
   "outputs": [],
   "source": []
  },
  {
   "cell_type": "code",
   "execution_count": null,
   "metadata": {},
   "outputs": [],
   "source": []
  },
  {
   "cell_type": "markdown",
   "metadata": {},
   "source": [
    "# Adaboost "
   ]
  },
  {
   "cell_type": "code",
   "execution_count": 48,
   "metadata": {},
   "outputs": [
    {
     "data": {
      "text/plain": [
       "AdaBoostRegressor()"
      ]
     },
     "execution_count": 48,
     "metadata": {},
     "output_type": "execute_result"
    }
   ],
   "source": [
    "from sklearn.ensemble import AdaBoostRegressor\n",
    "ada = AdaBoostRegressor()\n",
    "ada.fit(X_train, y_train)"
   ]
  },
  {
   "cell_type": "code",
   "execution_count": 49,
   "metadata": {},
   "outputs": [],
   "source": [
    "y_pred_ada = ada.predict(X_test)"
   ]
  },
  {
   "cell_type": "code",
   "execution_count": 50,
   "metadata": {},
   "outputs": [],
   "source": [
    "ada_mse = mean_squared_error(y_test, y_pred_ada)\n",
    "ada_r2 = r2_score(y_test, y_pred_ada)"
   ]
  },
  {
   "cell_type": "code",
   "execution_count": 51,
   "metadata": {},
   "outputs": [
    {
     "name": "stdout",
     "output_type": "stream",
     "text": [
      "Mean squared error for Adaboost: 0.6281709322244238\n",
      "R2 score for Adaboost: 0.36541660298905887\n"
     ]
    }
   ],
   "source": [
    "print (f\"Mean squared error for Adaboost: {ada_mse}\")\n",
    "print (f\"R2 score for Adaboost: {ada_r2}\")"
   ]
  },
  {
   "cell_type": "markdown",
   "metadata": {},
   "source": [
    "# XGB Regressor"
   ]
  },
  {
   "cell_type": "code",
   "execution_count": 54,
   "metadata": {},
   "outputs": [
    {
     "name": "stdout",
     "output_type": "stream",
     "text": [
      "Mean squared error for XGB: 0.36821353947786445\n",
      "R2 score for XGB: 0.6280276804915799\n"
     ]
    }
   ],
   "source": [
    "import xgboost\n",
    "xgb_model = xgboost.XGBRegressor(colsample_bytree=0.4,   \n",
    "            booster = 'gbtree',\n",
    "             learning_rate=0.1,\n",
    "             max_depth=5,\n",
    "             min_child_weight=1.5,\n",
    "             n_estimators=100,   \n",
    "             reg_lambda = 1,\n",
    "             seed=42)\n",
    "xgb_model.fit(X_train, y_train)\n",
    "y_prediction = xgb_model.predict(X_test)\n",
    "xgb_mse = metrics.mean_squared_error(y_test,y_prediction)\n",
    "xgb_r2 = metrics.r2_score(y_test, y_prediction)\n",
    "\n",
    "print (f\"Mean squared error for XGB: {xgb_mse}\")\n",
    "print (f\"R2 score for XGB: {xgb_r2}\")"
   ]
  },
  {
   "cell_type": "markdown",
   "metadata": {},
   "source": [
    "# Voting Regressor"
   ]
  },
  {
   "cell_type": "code",
   "execution_count": 55,
   "metadata": {},
   "outputs": [],
   "source": [
    "from sklearn.ensemble import VotingRegressor"
   ]
  },
  {
   "cell_type": "code",
   "execution_count": 56,
   "metadata": {},
   "outputs": [],
   "source": [
    "votingReg = VotingRegressor([('lm',lm),('ridge',ridgeReg),('elastic',ENreg)])\n",
    "votingReg.fit(X_train, y_train)\n",
    "y_prediction = votingReg.predict(X_test)"
   ]
  },
  {
   "cell_type": "code",
   "execution_count": 57,
   "metadata": {},
   "outputs": [],
   "source": [
    "voting_mse = metrics.mean_squared_error(y_test,y_prediction)\n",
    "voting_r2 = metrics.r2_score(y_test, y_prediction)"
   ]
  },
  {
   "cell_type": "code",
   "execution_count": 59,
   "metadata": {},
   "outputs": [
    {
     "name": "stdout",
     "output_type": "stream",
     "text": [
      "Mean squared error for Voting: 0.5018675205845318\n",
      "R2 score for Voting: 0.4930093391392236\n"
     ]
    }
   ],
   "source": [
    "print (f\"Mean squared error for Voting: {voting_mse}\")\n",
    "print (f\"R2 score for Voting: {voting_r2}\")"
   ]
  },
  {
   "cell_type": "code",
   "execution_count": null,
   "metadata": {},
   "outputs": [],
   "source": []
  },
  {
   "cell_type": "code",
   "execution_count": null,
   "metadata": {},
   "outputs": [],
   "source": []
  },
  {
   "cell_type": "code",
   "execution_count": null,
   "metadata": {},
   "outputs": [],
   "source": []
  },
  {
   "cell_type": "code",
   "execution_count": null,
   "metadata": {},
   "outputs": [],
   "source": []
  }
 ],
 "metadata": {
  "kernelspec": {
   "display_name": "Python 3",
   "language": "python",
   "name": "python3"
  },
  "language_info": {
   "codemirror_mode": {
    "name": "ipython",
    "version": 3
   },
   "file_extension": ".py",
   "mimetype": "text/x-python",
   "name": "python",
   "nbconvert_exporter": "python",
   "pygments_lexer": "ipython3",
   "version": "3.7.3"
  }
 },
 "nbformat": 4,
 "nbformat_minor": 4
}
