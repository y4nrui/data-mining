{
 "metadata": {
  "language_info": {
   "codemirror_mode": {
    "name": "ipython",
    "version": 3
   },
   "file_extension": ".py",
   "mimetype": "text/x-python",
   "name": "python",
   "nbconvert_exporter": "python",
   "pygments_lexer": "ipython3",
   "version": "3.7.5-final"
  },
  "orig_nbformat": 2,
  "kernelspec": {
   "name": "python_defaultSpec_1599037948980",
   "display_name": "Python 3.7.5 64-bit ('base': conda)"
  }
 },
 "nbformat": 4,
 "nbformat_minor": 2,
 "cells": [
  {
   "cell_type": "code",
   "execution_count": 3,
   "metadata": {},
   "outputs": [],
   "source": [
    "import pandas as pd\n",
    "import matplotlib.pyplot as plt"
   ]
  },
  {
   "cell_type": "code",
   "execution_count": 6,
   "metadata": {},
   "outputs": [],
   "source": [
    "data = pd.read_csv(\"median-resale-prices-for-registered-applications-by-town-and-flat-type/median-resale-prices-for-registered-applications-by-town-and-flat-type.csv\")"
   ]
  },
  {
   "cell_type": "code",
   "execution_count": 7,
   "metadata": {},
   "outputs": [
    {
     "output_type": "execute_result",
     "data": {
      "text/plain": "      quarter        town flat_type   price\n0     2007-Q2  Ang Mo Kio    1-room      na\n1     2007-Q2  Ang Mo Kio    2-room       -\n2     2007-Q2  Ang Mo Kio    3-room  172000\n3     2007-Q2  Ang Mo Kio    4-room  260000\n4     2007-Q2  Ang Mo Kio    5-room  372000\n...       ...         ...       ...     ...\n8263  2020-Q2      YISHUN    2-ROOM       -\n8264  2020-Q2      YISHUN    3-ROOM  265000\n8265  2020-Q2      YISHUN    4-ROOM  379000\n8266  2020-Q2      YISHUN    5-ROOM  485000\n8267  2020-Q2      YISHUN      EXEC       -\n\n[8268 rows x 4 columns]",
      "text/html": "<div>\n<style scoped>\n    .dataframe tbody tr th:only-of-type {\n        vertical-align: middle;\n    }\n\n    .dataframe tbody tr th {\n        vertical-align: top;\n    }\n\n    .dataframe thead th {\n        text-align: right;\n    }\n</style>\n<table border=\"1\" class=\"dataframe\">\n  <thead>\n    <tr style=\"text-align: right;\">\n      <th></th>\n      <th>quarter</th>\n      <th>town</th>\n      <th>flat_type</th>\n      <th>price</th>\n    </tr>\n  </thead>\n  <tbody>\n    <tr>\n      <th>0</th>\n      <td>2007-Q2</td>\n      <td>Ang Mo Kio</td>\n      <td>1-room</td>\n      <td>na</td>\n    </tr>\n    <tr>\n      <th>1</th>\n      <td>2007-Q2</td>\n      <td>Ang Mo Kio</td>\n      <td>2-room</td>\n      <td>-</td>\n    </tr>\n    <tr>\n      <th>2</th>\n      <td>2007-Q2</td>\n      <td>Ang Mo Kio</td>\n      <td>3-room</td>\n      <td>172000</td>\n    </tr>\n    <tr>\n      <th>3</th>\n      <td>2007-Q2</td>\n      <td>Ang Mo Kio</td>\n      <td>4-room</td>\n      <td>260000</td>\n    </tr>\n    <tr>\n      <th>4</th>\n      <td>2007-Q2</td>\n      <td>Ang Mo Kio</td>\n      <td>5-room</td>\n      <td>372000</td>\n    </tr>\n    <tr>\n      <th>...</th>\n      <td>...</td>\n      <td>...</td>\n      <td>...</td>\n      <td>...</td>\n    </tr>\n    <tr>\n      <th>8263</th>\n      <td>2020-Q2</td>\n      <td>YISHUN</td>\n      <td>2-ROOM</td>\n      <td>-</td>\n    </tr>\n    <tr>\n      <th>8264</th>\n      <td>2020-Q2</td>\n      <td>YISHUN</td>\n      <td>3-ROOM</td>\n      <td>265000</td>\n    </tr>\n    <tr>\n      <th>8265</th>\n      <td>2020-Q2</td>\n      <td>YISHUN</td>\n      <td>4-ROOM</td>\n      <td>379000</td>\n    </tr>\n    <tr>\n      <th>8266</th>\n      <td>2020-Q2</td>\n      <td>YISHUN</td>\n      <td>5-ROOM</td>\n      <td>485000</td>\n    </tr>\n    <tr>\n      <th>8267</th>\n      <td>2020-Q2</td>\n      <td>YISHUN</td>\n      <td>EXEC</td>\n      <td>-</td>\n    </tr>\n  </tbody>\n</table>\n<p>8268 rows × 4 columns</p>\n</div>"
     },
     "metadata": {},
     "execution_count": 7
    }
   ],
   "source": [
    "data"
   ]
  },
  {
   "cell_type": "code",
   "execution_count": 20,
   "metadata": {
    "tags": []
   },
   "outputs": [
    {
     "output_type": "execute_result",
     "data": {
      "text/plain": "2007-Q2    156\n2007-Q3    156\n2008-Q2    156\n2012-Q4    156\n2015-Q3    156\n2010-Q1    156\n2011-Q2    156\n2019-Q4    156\n2013-Q4    156\n2012-Q2    156\n2018-Q4    156\n2009-Q2    156\n2008-Q1    156\n2007-Q4    156\n2012-Q3    156\n2018-Q2    156\n2017-Q1    156\n2011-Q1    156\n2011-Q3    156\n2013-Q1    156\n2010-Q3    156\n2014-Q4    156\n2015-Q4    156\n2016-Q4    156\n2020-Q2    156\n2020-Q1    156\n2016-Q1    156\n2008-Q3    156\n2008-Q4    156\n2010-Q2    156\n2010-Q4    156\n2014-Q1    156\n2019-Q1    156\n2016-Q2    156\n2009-Q3    156\n2019-Q3    156\n2019-Q2    156\n2015-Q2    156\n2017-Q4    156\n2009-Q1    156\n2016-Q3    156\n2015-Q1    156\n2013-Q3    156\n2011-Q4    156\n2018-Q1    156\n2017-Q3    156\n2014-Q3    156\n2018-Q3    156\n2014-Q2    156\n2009-Q4    156\n2013-Q2    156\n2012-Q1    156\n2017-Q2    156\nName: quarter, dtype: int64"
     },
     "metadata": {},
     "execution_count": 20
    }
   ],
   "source": [
    "data['quarter'].value_counts()"
   ]
  },
  {
   "cell_type": "code",
   "execution_count": 21,
   "metadata": {},
   "outputs": [
    {
     "output_type": "execute_result",
     "data": {
      "text/plain": "Hougang            288\nBukit Panjang      288\nPasir Ris          288\nWoodlands          288\nSengkang           288\nBukit Merah        288\nChoa Chu Kang      288\nClementi           288\nYishun             288\nSembawang          288\nGeylang            288\nMarine Parade      288\nJurong West        288\nTampines           288\nBishan             288\nAng Mo Kio         288\nKallang/Whampoa    288\nToa Payoh          288\nBedok              288\nQueenstown         288\nSerangoon          288\nCentral            288\nBukit Batok        288\nJurong East        288\nBukit Timah        288\nPunggol            288\nANG MO KIO          30\nSERANGOON           30\nJURONG EAST         30\nPUNGGOL             30\nSENGKANG            30\nCHOA CHU KANG       30\nKALLANG/WHAMPOA     30\nCLEMENTI            30\nJURONG WEST         30\nHOUGANG             30\nBUKIT MERAH         30\nWOODLANDS           30\nBUKIT TIMAH         30\nCENTRAL AREA        30\nTAMPINES            30\nBEDOK               30\nBUKIT PANJANG       30\nTOA PAYOH           30\nPASIR RIS           30\nQUEENSTOWN          30\nSEMBAWANG           30\nYISHUN              30\nBISHAN              30\nBUKIT BATOK         30\nMARINE PARADE       30\nGEYLANG             30\nName: town, dtype: int64"
     },
     "metadata": {},
     "execution_count": 21
    }
   ],
   "source": [
    "data['town'].value_counts()\n"
   ]
  },
  {
   "cell_type": "code",
   "execution_count": 22,
   "metadata": {},
   "outputs": [
    {
     "output_type": "execute_result",
     "data": {
      "text/plain": "3-room       1248\nExecutive    1248\n5-room       1248\n2-room       1248\n4-room       1248\n1-room       1248\n3-ROOM        130\n4-ROOM        130\nEXEC          130\n1-ROOM        130\n5-ROOM        130\n2-ROOM        130\nName: flat_type, dtype: int64"
     },
     "metadata": {},
     "execution_count": 22
    }
   ],
   "source": [
    "data['flat_type'].value_counts()\n"
   ]
  },
  {
   "cell_type": "code",
   "execution_count": 23,
   "metadata": {},
   "outputs": [
    {
     "output_type": "execute_result",
     "data": {
      "text/plain": "-         2211\nna        2197\n420000      39\n300000      35\n400000      35\n          ... \n506500       1\n264500       1\n356600       1\n530900       1\n437300       1\nName: price, Length: 1063, dtype: int64"
     },
     "metadata": {},
     "execution_count": 23
    }
   ],
   "source": [
    "data['price'].value_counts()\n"
   ]
  },
  {
   "cell_type": "code",
   "execution_count": null,
   "metadata": {},
   "outputs": [],
   "source": []
  }
 ]
}