{
 "cells": [
  {
   "cell_type": "code",
   "execution_count": 22,
   "metadata": {},
   "outputs": [],
   "source": [
    "import pandas as pd\n",
    "import numpy as np\n",
    "from sklearn.linear_model import LinearRegression, Ridge, Lasso, LassoCV\n",
    "from sklearn.model_selection import cross_validate\n",
    "from sklearn import metrics\n",
    "from sklearn.ensemble import RandomForestRegressor\n",
    "from sklearn.model_selection import train_test_split\n",
    "import nest_asyncio"
   ]
  },
  {
   "cell_type": "code",
   "execution_count": 2,
   "metadata": {},
   "outputs": [
    {
     "data": {
      "text/html": [
       "<div>\n",
       "<style scoped>\n",
       "    .dataframe tbody tr th:only-of-type {\n",
       "        vertical-align: middle;\n",
       "    }\n",
       "\n",
       "    .dataframe tbody tr th {\n",
       "        vertical-align: top;\n",
       "    }\n",
       "\n",
       "    .dataframe thead th {\n",
       "        text-align: right;\n",
       "    }\n",
       "</style>\n",
       "<table border=\"1\" class=\"dataframe\">\n",
       "  <thead>\n",
       "    <tr style=\"text-align: right;\">\n",
       "      <th></th>\n",
       "      <th>month</th>\n",
       "      <th>town</th>\n",
       "      <th>flat_type</th>\n",
       "      <th>block</th>\n",
       "      <th>street_name</th>\n",
       "      <th>storey_range</th>\n",
       "      <th>floor_area_sqm</th>\n",
       "      <th>flat_model</th>\n",
       "      <th>lease_commence_date</th>\n",
       "      <th>remaining_lease</th>\n",
       "      <th>...</th>\n",
       "      <th>scaled_floor_area_sqm</th>\n",
       "      <th>scaled_lease_commence_date</th>\n",
       "      <th>scaled_remaining_lease</th>\n",
       "      <th>scaled_resale_price</th>\n",
       "      <th>scaled_storey_range</th>\n",
       "      <th>scaled_latitude</th>\n",
       "      <th>scaled_longitude</th>\n",
       "      <th>minDistanceFromMall</th>\n",
       "      <th>minDistanceFromMrt</th>\n",
       "      <th>minDistFromSch</th>\n",
       "    </tr>\n",
       "  </thead>\n",
       "  <tbody>\n",
       "    <tr>\n",
       "      <th>0</th>\n",
       "      <td>2015-01</td>\n",
       "      <td>ANG MO KIO</td>\n",
       "      <td>3 ROOM</td>\n",
       "      <td>174</td>\n",
       "      <td>ANG MO KIO AVE 4</td>\n",
       "      <td>8</td>\n",
       "      <td>60.0</td>\n",
       "      <td>Improved</td>\n",
       "      <td>1986</td>\n",
       "      <td>70.0</td>\n",
       "      <td>...</td>\n",
       "      <td>-1.542079</td>\n",
       "      <td>-0.569175</td>\n",
       "      <td>-0.363679</td>\n",
       "      <td>-1.237364</td>\n",
       "      <td>-0.081788</td>\n",
       "      <td>0.193734</td>\n",
       "      <td>-0.017583</td>\n",
       "      <td>893.278432</td>\n",
       "      <td>988.960998</td>\n",
       "      <td>210.896670</td>\n",
       "    </tr>\n",
       "    <tr>\n",
       "      <th>1</th>\n",
       "      <td>2015-01</td>\n",
       "      <td>ANG MO KIO</td>\n",
       "      <td>3 ROOM</td>\n",
       "      <td>541</td>\n",
       "      <td>ANG MO KIO AVE 10</td>\n",
       "      <td>2</td>\n",
       "      <td>68.0</td>\n",
       "      <td>New Generation</td>\n",
       "      <td>1981</td>\n",
       "      <td>65.0</td>\n",
       "      <td>...</td>\n",
       "      <td>-1.212248</td>\n",
       "      <td>-0.977903</td>\n",
       "      <td>-0.775289</td>\n",
       "      <td>-1.102024</td>\n",
       "      <td>-1.151769</td>\n",
       "      <td>0.166323</td>\n",
       "      <td>0.231787</td>\n",
       "      <td>813.149646</td>\n",
       "      <td>718.272789</td>\n",
       "      <td>420.358229</td>\n",
       "    </tr>\n",
       "    <tr>\n",
       "      <th>2</th>\n",
       "      <td>2015-01</td>\n",
       "      <td>ANG MO KIO</td>\n",
       "      <td>3 ROOM</td>\n",
       "      <td>163</td>\n",
       "      <td>ANG MO KIO AVE 4</td>\n",
       "      <td>2</td>\n",
       "      <td>69.0</td>\n",
       "      <td>New Generation</td>\n",
       "      <td>1980</td>\n",
       "      <td>64.0</td>\n",
       "      <td>...</td>\n",
       "      <td>-1.171019</td>\n",
       "      <td>-1.059649</td>\n",
       "      <td>-0.857611</td>\n",
       "      <td>-1.034354</td>\n",
       "      <td>-1.151769</td>\n",
       "      <td>0.157602</td>\n",
       "      <td>-0.009860</td>\n",
       "      <td>796.220278</td>\n",
       "      <td>1063.134486</td>\n",
       "      <td>350.034254</td>\n",
       "    </tr>\n",
       "    <tr>\n",
       "      <th>3</th>\n",
       "      <td>2015-01</td>\n",
       "      <td>ANG MO KIO</td>\n",
       "      <td>3 ROOM</td>\n",
       "      <td>446</td>\n",
       "      <td>ANG MO KIO AVE 10</td>\n",
       "      <td>2</td>\n",
       "      <td>68.0</td>\n",
       "      <td>New Generation</td>\n",
       "      <td>1979</td>\n",
       "      <td>63.0</td>\n",
       "      <td>...</td>\n",
       "      <td>-1.212248</td>\n",
       "      <td>-1.141395</td>\n",
       "      <td>-0.939933</td>\n",
       "      <td>-1.000519</td>\n",
       "      <td>-1.151769</td>\n",
       "      <td>0.022595</td>\n",
       "      <td>0.228126</td>\n",
       "      <td>706.917955</td>\n",
       "      <td>619.745373</td>\n",
       "      <td>344.590308</td>\n",
       "    </tr>\n",
       "    <tr>\n",
       "      <th>4</th>\n",
       "      <td>2015-01</td>\n",
       "      <td>ANG MO KIO</td>\n",
       "      <td>3 ROOM</td>\n",
       "      <td>557</td>\n",
       "      <td>ANG MO KIO AVE 10</td>\n",
       "      <td>8</td>\n",
       "      <td>68.0</td>\n",
       "      <td>New Generation</td>\n",
       "      <td>1980</td>\n",
       "      <td>64.0</td>\n",
       "      <td>...</td>\n",
       "      <td>-1.212248</td>\n",
       "      <td>-1.059649</td>\n",
       "      <td>-0.857611</td>\n",
       "      <td>-1.000519</td>\n",
       "      <td>-0.081788</td>\n",
       "      <td>0.112748</td>\n",
       "      <td>0.261080</td>\n",
       "      <td>952.440214</td>\n",
       "      <td>830.384131</td>\n",
       "      <td>598.219907</td>\n",
       "    </tr>\n",
       "  </tbody>\n",
       "</table>\n",
       "<p>5 rows × 25 columns</p>\n",
       "</div>"
      ],
      "text/plain": [
       "     month        town flat_type block        street_name  storey_range  \\\n",
       "0  2015-01  ANG MO KIO    3 ROOM   174   ANG MO KIO AVE 4             8   \n",
       "1  2015-01  ANG MO KIO    3 ROOM   541  ANG MO KIO AVE 10             2   \n",
       "2  2015-01  ANG MO KIO    3 ROOM   163   ANG MO KIO AVE 4             2   \n",
       "3  2015-01  ANG MO KIO    3 ROOM   446  ANG MO KIO AVE 10             2   \n",
       "4  2015-01  ANG MO KIO    3 ROOM   557  ANG MO KIO AVE 10             8   \n",
       "\n",
       "   floor_area_sqm      flat_model  lease_commence_date  remaining_lease  ...  \\\n",
       "0            60.0        Improved                 1986             70.0  ...   \n",
       "1            68.0  New Generation                 1981             65.0  ...   \n",
       "2            69.0  New Generation                 1980             64.0  ...   \n",
       "3            68.0  New Generation                 1979             63.0  ...   \n",
       "4            68.0  New Generation                 1980             64.0  ...   \n",
       "\n",
       "   scaled_floor_area_sqm scaled_lease_commence_date  scaled_remaining_lease  \\\n",
       "0              -1.542079                  -0.569175               -0.363679   \n",
       "1              -1.212248                  -0.977903               -0.775289   \n",
       "2              -1.171019                  -1.059649               -0.857611   \n",
       "3              -1.212248                  -1.141395               -0.939933   \n",
       "4              -1.212248                  -1.059649               -0.857611   \n",
       "\n",
       "   scaled_resale_price scaled_storey_range  scaled_latitude  scaled_longitude  \\\n",
       "0            -1.237364           -0.081788         0.193734         -0.017583   \n",
       "1            -1.102024           -1.151769         0.166323          0.231787   \n",
       "2            -1.034354           -1.151769         0.157602         -0.009860   \n",
       "3            -1.000519           -1.151769         0.022595          0.228126   \n",
       "4            -1.000519           -0.081788         0.112748          0.261080   \n",
       "\n",
       "   minDistanceFromMall  minDistanceFromMrt  minDistFromSch  \n",
       "0           893.278432          988.960998      210.896670  \n",
       "1           813.149646          718.272789      420.358229  \n",
       "2           796.220278         1063.134486      350.034254  \n",
       "3           706.917955          619.745373      344.590308  \n",
       "4           952.440214          830.384131      598.219907  \n",
       "\n",
       "[5 rows x 25 columns]"
      ]
     },
     "execution_count": 2,
     "metadata": {},
     "output_type": "execute_result"
    }
   ],
   "source": [
    "df = pd.read_csv('./data/from-jan-2015-onward-scaled.csv')\n",
    "df.head()"
   ]
  },
  {
   "cell_type": "code",
   "execution_count": 3,
   "metadata": {},
   "outputs": [
    {
     "data": {
      "text/html": [
       "<div>\n",
       "<style scoped>\n",
       "    .dataframe tbody tr th:only-of-type {\n",
       "        vertical-align: middle;\n",
       "    }\n",
       "\n",
       "    .dataframe tbody tr th {\n",
       "        vertical-align: top;\n",
       "    }\n",
       "\n",
       "    .dataframe thead th {\n",
       "        text-align: right;\n",
       "    }\n",
       "</style>\n",
       "<table border=\"1\" class=\"dataframe\">\n",
       "  <thead>\n",
       "    <tr style=\"text-align: right;\">\n",
       "      <th></th>\n",
       "      <th>scaled_lease_commence_date</th>\n",
       "      <th>scaled_remaining_lease</th>\n",
       "      <th>scaled_storey_range</th>\n",
       "      <th>scaled_latitude</th>\n",
       "      <th>scaled_longitude</th>\n",
       "      <th>minDistanceFromMall</th>\n",
       "      <th>minDistanceFromMrt</th>\n",
       "      <th>minDistFromSch</th>\n",
       "    </tr>\n",
       "  </thead>\n",
       "  <tbody>\n",
       "    <tr>\n",
       "      <th>0</th>\n",
       "      <td>-0.569175</td>\n",
       "      <td>-0.363679</td>\n",
       "      <td>-0.081788</td>\n",
       "      <td>0.193734</td>\n",
       "      <td>-0.017583</td>\n",
       "      <td>893.278432</td>\n",
       "      <td>988.960998</td>\n",
       "      <td>210.896670</td>\n",
       "    </tr>\n",
       "    <tr>\n",
       "      <th>1</th>\n",
       "      <td>-0.977903</td>\n",
       "      <td>-0.775289</td>\n",
       "      <td>-1.151769</td>\n",
       "      <td>0.166323</td>\n",
       "      <td>0.231787</td>\n",
       "      <td>813.149646</td>\n",
       "      <td>718.272789</td>\n",
       "      <td>420.358229</td>\n",
       "    </tr>\n",
       "    <tr>\n",
       "      <th>2</th>\n",
       "      <td>-1.059649</td>\n",
       "      <td>-0.857611</td>\n",
       "      <td>-1.151769</td>\n",
       "      <td>0.157602</td>\n",
       "      <td>-0.009860</td>\n",
       "      <td>796.220278</td>\n",
       "      <td>1063.134486</td>\n",
       "      <td>350.034254</td>\n",
       "    </tr>\n",
       "    <tr>\n",
       "      <th>3</th>\n",
       "      <td>-1.141395</td>\n",
       "      <td>-0.939933</td>\n",
       "      <td>-1.151769</td>\n",
       "      <td>0.022595</td>\n",
       "      <td>0.228126</td>\n",
       "      <td>706.917955</td>\n",
       "      <td>619.745373</td>\n",
       "      <td>344.590308</td>\n",
       "    </tr>\n",
       "    <tr>\n",
       "      <th>4</th>\n",
       "      <td>-1.059649</td>\n",
       "      <td>-0.857611</td>\n",
       "      <td>-0.081788</td>\n",
       "      <td>0.112748</td>\n",
       "      <td>0.261080</td>\n",
       "      <td>952.440214</td>\n",
       "      <td>830.384131</td>\n",
       "      <td>598.219907</td>\n",
       "    </tr>\n",
       "  </tbody>\n",
       "</table>\n",
       "</div>"
      ],
      "text/plain": [
       "   scaled_lease_commence_date  scaled_remaining_lease  scaled_storey_range  \\\n",
       "0                   -0.569175               -0.363679            -0.081788   \n",
       "1                   -0.977903               -0.775289            -1.151769   \n",
       "2                   -1.059649               -0.857611            -1.151769   \n",
       "3                   -1.141395               -0.939933            -1.151769   \n",
       "4                   -1.059649               -0.857611            -0.081788   \n",
       "\n",
       "   scaled_latitude  scaled_longitude  minDistanceFromMall  minDistanceFromMrt  \\\n",
       "0         0.193734         -0.017583           893.278432          988.960998   \n",
       "1         0.166323          0.231787           813.149646          718.272789   \n",
       "2         0.157602         -0.009860           796.220278         1063.134486   \n",
       "3         0.022595          0.228126           706.917955          619.745373   \n",
       "4         0.112748          0.261080           952.440214          830.384131   \n",
       "\n",
       "   minDistFromSch  \n",
       "0      210.896670  \n",
       "1      420.358229  \n",
       "2      350.034254  \n",
       "3      344.590308  \n",
       "4      598.219907  "
      ]
     },
     "execution_count": 3,
     "metadata": {},
     "output_type": "execute_result"
    }
   ],
   "source": [
    "y = df['scaled_resale_price']\n",
    "X = df.drop(df.iloc[:,:16], axis =1, inplace = True)\n",
    "X = df.loc[:, df.columns != 'scaled_resale_price']\n",
    "# label_X = df.drop(['SalePrice', 'Unnamed: 0'], axis =1)\n",
    "X.head()"
   ]
  },
  {
   "cell_type": "markdown",
   "metadata": {},
   "source": [
    "## Lasso Regression"
   ]
  },
  {
   "cell_type": "code",
   "execution_count": 4,
   "metadata": {},
   "outputs": [
    {
     "name": "stdout",
     "output_type": "stream",
     "text": [
      "SCORE FOR UNTUNED LASSO\n",
      "0.9877081538756263\n"
     ]
    }
   ],
   "source": [
    "param_list = []\n",
    "start = 0.0001\n",
    "for i in range(30):\n",
    "    param_list.append(start)\n",
    "    start = start + 0.0001\n",
    "parameters2 = {'alpha': param_list}\n",
    "lasso = Lasso()\n",
    "lasso.fit(X,y)\n",
    "metrics = cross_validate(lasso, X,y, cv = 5, scoring = ('neg_root_mean_squared_error'))\n",
    "print('SCORE FOR UNTUNED LASSO')\n",
    "print(-metrics['test_score'].mean())"
   ]
  },
  {
   "cell_type": "code",
   "execution_count": 5,
   "metadata": {},
   "outputs": [],
   "source": [
    "tuned_lasso = GridSearchCV(lasso, parameters2, scoring = 'neg_root_mean_squared_error', cv = 5)\n",
    "tuned_lasso.fit(X,y)\n",
    "best_param = tuned_lasso.best_params_['alpha']\n",
    "lasso_tuned = Lasso(alpha = best_param)\n",
    "lasso_tuned.fit(X,y)\n",
    "metrics = cross_validate(lasso_tuned, X,y, cv = 5, scoring = ('neg_root_mean_squared_error'))"
   ]
  },
  {
   "cell_type": "code",
   "execution_count": 6,
   "metadata": {},
   "outputs": [
    {
     "name": "stdout",
     "output_type": "stream",
     "text": [
      "BASED ON CV, WE FOUND OPTIMAL ALPHA TO BE:\n",
      "0.0015000000000000005\n",
      "0.8205916383738886\n",
      "\n",
      "\n",
      "FEATURES WITH NON ZERO COEFFICIENTS FOR LASSO\n",
      "['scaled_remaining_lease', 'scaled_storey_range', 'scaled_longitude', 'minDistFromSch']\n"
     ]
    }
   ],
   "source": [
    "print('BASED ON CV, WE FOUND OPTIMAL ALPHA TO BE:')\n",
    "print(best_param)\n",
    "print(-tuned_lasso.best_score_)\n",
    "print()\n",
    "model_coefs = list(lasso_tuned.coef_)\n",
    "\n",
    "good_features = []\n",
    "for i in range(len(model_coefs)):\n",
    "    if model_coefs[i]> 0:\n",
    "        good_features.append(list(X.columns)[i])\n",
    "\n",
    "print('\\n'+'FEATURES WITH NON ZERO COEFFICIENTS FOR LASSO')\n",
    "print(good_features)"
   ]
  },
  {
   "cell_type": "code",
   "execution_count": 7,
   "metadata": {},
   "outputs": [
    {
     "name": "stdout",
     "output_type": "stream",
     "text": [
      "scaled_remaining_lease, scaled_storey_range, scaled_longitude, "
     ]
    }
   ],
   "source": [
    "for i in good_features:\n",
    "    if '_' in i:\n",
    "        print(i, end = ', ')"
   ]
  },
  {
   "cell_type": "code",
   "execution_count": 8,
   "metadata": {},
   "outputs": [],
   "source": [
    "new_feature_set = X[good_features]"
   ]
  },
  {
   "cell_type": "markdown",
   "metadata": {},
   "source": [
    "## Reworking based on feature selection"
   ]
  },
  {
   "cell_type": "code",
   "execution_count": 9,
   "metadata": {
    "scrolled": true
   },
   "outputs": [
    {
     "name": "stdout",
     "output_type": "stream",
     "text": [
      "CV PREDICTION ERROR FOR NEW FEATURE SET MULTIVARIATE LR\n"
     ]
    },
    {
     "data": {
      "text/plain": [
       "0.8826540253971384"
      ]
     },
     "execution_count": 9,
     "metadata": {},
     "output_type": "execute_result"
    }
   ],
   "source": [
    "new_feature_set = X[good_features]\n",
    "lr_model_selected = LinearRegression()\n",
    "metrics = cross_validate(lr_model_selected, new_feature_set, y, cv = 5,scoring = ('neg_root_mean_squared_error'))\n",
    "print('CV PREDICTION ERROR FOR NEW FEATURE SET MULTIVARIATE LR')\n",
    "-metrics['test_score'].mean()"
   ]
  },
  {
   "cell_type": "code",
   "execution_count": 10,
   "metadata": {},
   "outputs": [
    {
     "name": "stdout",
     "output_type": "stream",
     "text": [
      "CV PREDICTION ERROR FOR UNTUNED RR\n",
      "0.8826540021581277\n",
      "CV PREDICTION ERROR FOR TUNED RR\n",
      "0.8826538654917853\n",
      "{'alpha': 6.89999999999999}\n"
     ]
    }
   ],
   "source": [
    "param_list = []\n",
    "start = 4\n",
    "for i in range(30):\n",
    "    param_list.append(start)\n",
    "    start = start + 0.1\n",
    "#     start = start +\n",
    "\n",
    "parameters = {'alpha': param_list} \n",
    "rr = Ridge()\n",
    "metrics = cross_validate(rr, X[good_features], y, cv = 5, scoring = ('neg_root_mean_squared_error'))\n",
    "print('CV PREDICTION ERROR FOR UNTUNED RR')\n",
    "print(-metrics['test_score'].mean())\n",
    "\n",
    "tuned_rr = GridSearchCV(rr, parameters, scoring = 'neg_root_mean_squared_error', cv = 5)\n",
    "tuned_rr.fit(X[good_features],y)\n",
    "print('CV PREDICTION ERROR FOR TUNED RR')\n",
    "print(-tuned_rr.best_score_)\n",
    "print(tuned_rr.best_params_)"
   ]
  },
  {
   "cell_type": "code",
   "execution_count": 11,
   "metadata": {},
   "outputs": [
    {
     "name": "stdout",
     "output_type": "stream",
     "text": [
      "SCORE FOR UNTUNED LASSO\n",
      "0.9977461008873755\n"
     ]
    }
   ],
   "source": [
    "param_list = []\n",
    "start = 0.0001\n",
    "for i in range(30):\n",
    "    param_list.append(start)\n",
    "    start = start + 0.0001\n",
    "parameters2 = {'alpha': param_list}\n",
    "lasso = Lasso()\n",
    "lasso.fit(new_feature_set,y)\n",
    "metrics = cross_validate(lasso, new_feature_set,y, cv = 5, scoring = ('neg_root_mean_squared_error'))\n",
    "print('SCORE FOR UNTUNED LASSO')\n",
    "print(-metrics['test_score'].mean())"
   ]
  },
  {
   "cell_type": "code",
   "execution_count": 12,
   "metadata": {},
   "outputs": [],
   "source": [
    "tuned_lasso = GridSearchCV(lasso, parameters2, scoring = 'neg_root_mean_squared_error', cv = 5)\n",
    "tuned_lasso.fit(new_feature_set,y)\n",
    "best_param = tuned_lasso.best_params_['alpha']\n",
    "lasso_tuned = Lasso(alpha = best_param)\n",
    "lasso_tuned.fit(X,y)\n",
    "metrics = cross_validate(lasso_tuned, new_feature_set,y, cv = 5, scoring = ('neg_root_mean_squared_error'))\n",
    "\n"
   ]
  },
  {
   "cell_type": "code",
   "execution_count": 13,
   "metadata": {},
   "outputs": [
    {
     "name": "stdout",
     "output_type": "stream",
     "text": [
      "BASED ON CV, WE FOUND OPTIMAL ALPHA TO BE:\n",
      "0.0020000000000000005\n",
      "0.8826478840617877\n",
      "\n"
     ]
    }
   ],
   "source": [
    "print('BASED ON CV, WE FOUND OPTIMAL ALPHA TO BE:')\n",
    "print(best_param)\n",
    "print(-tuned_lasso.best_score_)\n",
    "print()\n",
    "model_coefs = list(lasso_tuned.coef_)"
   ]
  },
  {
   "cell_type": "markdown",
   "metadata": {},
   "source": [
    "## Random Forest"
   ]
  },
  {
   "cell_type": "code",
   "execution_count": 14,
   "metadata": {},
   "outputs": [
    {
     "name": "stdout",
     "output_type": "stream",
     "text": [
      "{'bootstrap': True, 'ccp_alpha': 0.0, 'criterion': 'mse', 'max_depth': None, 'max_features': 'auto', 'max_leaf_nodes': 16, 'max_samples': None, 'min_impurity_decrease': 0.0, 'min_impurity_split': None, 'min_samples_leaf': 1, 'min_samples_split': 2, 'min_weight_fraction_leaf': 0.0, 'n_estimators': 500, 'n_jobs': -1, 'oob_score': True, 'random_state': None, 'verbose': 0, 'warm_start': False}\n",
      "\n",
      " This is the oob score:  0.33670044686937184\n"
     ]
    }
   ],
   "source": [
    "rf = RandomForestRegressor(n_estimators = 500, max_leaf_nodes = 16, n_jobs = -1, oob_score = True, bootstrap = True)\n",
    "rf.fit(new_feature_set, y)\n",
    "print(rf.get_params())\n",
    "print('\\n This is the oob score: ', rf.oob_score_)\n",
    "rf_features = []\n",
    "\n",
    "for name, score in zip(list(X.columns),rf.feature_importances_):\n",
    "    if score > 0:\n",
    "#         print(name,score)\n",
    "        rf_features.append((name,score))\n",
    "\n"
   ]
  },
  {
   "cell_type": "code",
   "execution_count": 15,
   "metadata": {},
   "outputs": [
    {
     "name": "stdout",
     "output_type": "stream",
     "text": [
      "LASSO REGRESSION FEATURES SELECTED: \n",
      " ['scaled_remaining_lease', 'scaled_storey_range', 'scaled_longitude', 'minDistFromSch']\n",
      "\n",
      "FEATURES USED TO SPLIT RF: \n",
      " [('scaled_lease_commence_date', 0.3767313106833139), ('scaled_remaining_lease', 0.35362411996518434), ('scaled_storey_range', 0.2333865138651979), ('scaled_latitude', 0.036258055486303925)]\n"
     ]
    }
   ],
   "source": [
    "print('LASSO REGRESSION FEATURES SELECTED: \\n', good_features)\n",
    "print()\n",
    "print('FEATURES USED TO SPLIT RF: \\n', rf_features)"
   ]
  },
  {
   "cell_type": "code",
   "execution_count": 16,
   "metadata": {},
   "outputs": [],
   "source": [
    "import nest_asyncio\n",
    "nest_asyncio.apply()"
   ]
  },
  {
   "cell_type": "markdown",
   "metadata": {},
   "source": [
    "## Tuning of RF model"
   ]
  },
  {
   "cell_type": "markdown",
   "metadata": {},
   "source": [
    "Using the OOB score to evaluate the random forest model gives us an extremely high OOB r^2 score. Based on the model, we also see that many features have very low importance, and this incentivizes us to revisit the variable selection methodology that we adopted earlier.\n",
    "We try hyperparameter search using random hyperparameter grid, so that we can find optimum hyperparamters for our random forest model"
   ]
  },
  {
   "cell_type": "code",
   "execution_count": 17,
   "metadata": {},
   "outputs": [
    {
     "name": "stdout",
     "output_type": "stream",
     "text": [
      "{'n_estimators': [200, 400, 600, 800, 1000, 1200, 1400, 1600, 1800, 2000], 'max_features': ['auto', 'sqrt'], 'max_depth': [10, 20, 30, 40, 50, 60, 70, 80, 90, 100, 110, None], 'min_samples_split': [2, 5, 10], 'min_samples_leaf': [1, 2, 4], 'bootstrap': [True]}\n"
     ]
    }
   ],
   "source": [
    "n_estimators = [int(x) for x in np.linspace(start = 200, stop = 2000, num =10)]\n",
    "max_features = ['auto', 'sqrt']\n",
    "max_depth = [int(x) for x in np.linspace(10,110,num =11)]\n",
    "max_depth.append(None)\n",
    "min_samples_split = [2,5,10]\n",
    "min_samples_leaf = [1,2,4]\n",
    "bootstrap = [True]\n",
    "random_grid = {'n_estimators': n_estimators,\n",
    "               'max_features': max_features,\n",
    "               'max_depth': max_depth,\n",
    "               'min_samples_split': min_samples_split,\n",
    "               'min_samples_leaf': min_samples_leaf,\n",
    "               'bootstrap': bootstrap}\n",
    "print(random_grid)"
   ]
  },
  {
   "cell_type": "code",
   "execution_count": 18,
   "metadata": {},
   "outputs": [],
   "source": [
    "from dask_ml.model_selection import RandomizedSearchCV"
   ]
  },
  {
   "cell_type": "code",
   "execution_count": 19,
   "metadata": {},
   "outputs": [
    {
     "name": "stdout",
     "output_type": "stream",
     "text": [
      "THIS IS THE BEST SCORE\n",
      "0.5302358976356846\n",
      "THIS IS THE BEST PARAMS\n",
      "{'n_estimators': 1200, 'min_samples_split': 5, 'min_samples_leaf': 1, 'max_features': 'auto', 'max_depth': 90, 'bootstrap': True}\n"
     ]
    }
   ],
   "source": [
    "rf = RandomForestRegressor()\n",
    "#rf_random = RandomizedSearchCV(estimator = rf, param_distributions = random_grid, n_iter = 25, cv =5, verbose = 2, random_state = 42, n_jobs = -1, scoring = 'neg_root_mean_squared_error')\n",
    "rf_random = RandomizedSearchCV(estimator = rf, param_distributions = random_grid, n_iter = 25, cv =5, random_state = 42, n_jobs = -1, scoring = 'neg_root_mean_squared_error')\n",
    "rf_random.fit(new_feature_set, y)\n",
    "print('THIS IS THE BEST SCORE')\n",
    "print(-rf_random.best_score_)\n",
    "print('THIS IS THE BEST PARAMS')\n",
    "print(rf_random.best_params_)"
   ]
  },
  {
   "cell_type": "code",
   "execution_count": 20,
   "metadata": {},
   "outputs": [],
   "source": [
    "\n",
    "param_grid = {\n",
    "    'max_depth': [20,25,15],\n",
    "    'min_samples_leaf': [1],\n",
    "    'min_samples_split': [2],\n",
    "    'max_features' : ['sqrt'],\n",
    "    'n_estimators': [800,850, 750]\n",
    "#     'bootstrap': [False]\n",
    "}\n",
    "\n"
   ]
  },
  {
   "cell_type": "code",
   "execution_count": 23,
   "metadata": {},
   "outputs": [],
   "source": [
    "from dask_ml.model_selection import GridSearchCV"
   ]
  },
  {
   "cell_type": "code",
   "execution_count": 25,
   "metadata": {},
   "outputs": [
    {
     "name": "stderr",
     "output_type": "stream",
     "text": [
      "/Users/Yohana/opt/anaconda3/lib/python3.8/site-packages/sklearn/utils/validation.py:71: RuntimeWarning: coroutine 'InteractiveShell.run_cell_async' was never awaited\n",
      "  kwargs.update({k: arg for k, arg in zip(sig.parameters, args)})\n",
      "RuntimeWarning: Enable tracemalloc to get the object allocation traceback\n"
     ]
    },
    {
     "name": "stdout",
     "output_type": "stream",
     "text": [
      "SCORE FOR RF\n",
      "0.41588484718538693\n"
     ]
    }
   ],
   "source": [
    "grid_search = GridSearchCV(estimator = rf, param_grid = param_grid, cv = 5, n_jobs= -1, scoring = 'neg_root_mean_squared_error')\n",
    "grid_search.fit(X,y)\n",
    "# print(grid_search.best_params_)\n",
    "print('SCORE FOR RF')\n",
    "print(-grid_search.best_score_)"
   ]
  },
  {
   "cell_type": "code",
   "execution_count": null,
   "metadata": {},
   "outputs": [],
   "source": []
  }
 ],
 "metadata": {
  "kernelspec": {
   "display_name": "Python 3",
   "language": "python",
   "name": "python3"
  },
  "language_info": {
   "codemirror_mode": {
    "name": "ipython",
    "version": 3
   },
   "file_extension": ".py",
   "mimetype": "text/x-python",
   "name": "python",
   "nbconvert_exporter": "python",
   "pygments_lexer": "ipython3",
   "version": "3.8.3"
  }
 },
 "nbformat": 4,
 "nbformat_minor": 4
}
